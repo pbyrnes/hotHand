{
 "metadata": {
  "name": "",
  "signature": "sha256:f2814c88ece3fe2a3ff09f6827864e831bbfa75f4237e83ec5c1314fd12881ba"
 },
 "nbformat": 3,
 "nbformat_minor": 0,
 "worksheets": [
  {
   "cells": [
    {
     "cell_type": "heading",
     "level": 1,
     "metadata": {},
     "source": [
      "Investigation of \"Hot-hand effect\""
     ]
    },
    {
     "cell_type": "markdown",
     "metadata": {},
     "source": [
      "There is a widely held belief in basketball that some players have periods of time where they are much better shooters than normal.  This can be called having a \"hot hand\".  An example would be if a player hit 3 shots in a row, then many fans would expect that player to be more likely (than their usual percentage) to hit their next shot.\n",
      "\n",
      "Whether this is a real effect or some kind of cognitive bias has been previously studied.  For instance in 1984(83?, 85? FIX THIS), [RESEARCHERS] looked at actual shooting results of the Philadelphia 76ers, free throws of the Boston Celtics, and controlled-experiment shots of college students.  Their data did not support the existence of a hot-hand effect.  This question has been revisited, for instance in [PAPERS FROM 2005?? or so??] which also failed to find evidence to support the existence of the hot-hand effect.  Interestingly, in 2015 [RESEARCHERS] noted that the sampling method used in previous studies was flawed.  The flaw is subtle, but leads to some evidence for the hot-hand effect.\n",
      "\n",
      "My intent is to investigate recent shooting results of NBA players with the goals of:\n",
      "<ul>\n",
      "<li>Looking for evidence to support (or reject) the existence of the hot-hand effect.\n",
      "<li>Understand the subtleties of the sampling flaw found by [RESEARCHERS].\n",
      "</ul>"
     ]
    },
    {
     "cell_type": "heading",
     "level": 2,
     "metadata": {},
     "source": [
      "Getting the data"
     ]
    },
    {
     "cell_type": "markdown",
     "metadata": {},
     "source": [
      "The reason I chose to study NBA data was that I found a resource that makes shooting data easy to download for the NBA: <a href = \"www.nbasavant.com\">www.nbasavant.com</a>.  I have downloaded all shooting data for 2016-2017 and placed it in the files nba_savant_<month>_<year>.csv in the data/nba_savant folder.  [Note: you can ostensibly download a .csv file of the shots data for the entire year, but the files seem to be limited to 50,000 lines which is not enough.  That's why I split the data by month when downloading.]\n",
      "\n",
      "There is some concern about the complete validity of the data.  My biggest concern is the data for April 2017 seems to be incomplete.  There are not near enough total shots for the month and spot checking some players shows many fewer shots than expected for that player.  However, working with this data will at least provide a framework for studying similar datasets.\n",
      "\n",
      "Before reading in the data, we will load pandas, a python library used for data analysis."
     ]
    },
    {
     "cell_type": "code",
     "collapsed": false,
     "input": [
      "import pandas as pd"
     ],
     "language": "python",
     "metadata": {},
     "outputs": [],
     "prompt_number": 93
    },
    {
     "cell_type": "markdown",
     "metadata": {},
     "source": [
      "Now, we can read in the data from the downloaded .csv files and store the data as a DataFrame (a pandas data structure)."
     ]
    },
    {
     "cell_type": "code",
     "collapsed": false,
     "input": [
      "import glob\n",
      "files_to_read = glob.glob('../data/nba_savant/*.csv')\n",
      "\n",
      "shots = pd.concat((pd.read_csv(f) for f in files_to_read))"
     ],
     "language": "python",
     "metadata": {},
     "outputs": [],
     "prompt_number": 94
    },
    {
     "cell_type": "markdown",
     "metadata": {},
     "source": [
      "We can look at the first few rows of data to get a sense of what data we have (and if the read did what we expected it to do):"
     ]
    },
    {
     "cell_type": "code",
     "collapsed": false,
     "input": [
      "shots.head()"
     ],
     "language": "python",
     "metadata": {},
     "outputs": [
      {
       "html": [
        "<div style=\"max-width:1500px;overflow:auto;\">\n",
        "<style>\n",
        "    .dataframe thead tr:only-child th {\n",
        "        text-align: right;\n",
        "    }\n",
        "\n",
        "    .dataframe thead th {\n",
        "        text-align: left;\n",
        "    }\n",
        "\n",
        "    .dataframe tbody tr th {\n",
        "        vertical-align: top;\n",
        "    }\n",
        "</style>\n",
        "<table border=\"1\" class=\"dataframe\">\n",
        "  <thead>\n",
        "    <tr style=\"text-align: right;\">\n",
        "      <th></th>\n",
        "      <th>name</th>\n",
        "      <th>team_name</th>\n",
        "      <th>game_date</th>\n",
        "      <th>season</th>\n",
        "      <th>espn_player_id</th>\n",
        "      <th>team_id</th>\n",
        "      <th>espn_game_id</th>\n",
        "      <th>period</th>\n",
        "      <th>minutes_remaining</th>\n",
        "      <th>seconds_remaining</th>\n",
        "      <th>shot_made_flag</th>\n",
        "      <th>action_type</th>\n",
        "      <th>shot_type</th>\n",
        "      <th>shot_distance</th>\n",
        "      <th>opponent</th>\n",
        "      <th>x</th>\n",
        "      <th>y</th>\n",
        "      <th>dribbles</th>\n",
        "      <th>touch_time</th>\n",
        "      <th>defender_name</th>\n",
        "      <th>defender_distance</th>\n",
        "      <th>shot_clock</th>\n",
        "    </tr>\n",
        "  </thead>\n",
        "  <tbody>\n",
        "    <tr>\n",
        "      <th>0</th>\n",
        "      <td>Andre Drummond</td>\n",
        "      <td>Detroit Pistons</td>\n",
        "      <td>2017-01-01</td>\n",
        "      <td>2016</td>\n",
        "      <td>6585.0</td>\n",
        "      <td>1610612765</td>\n",
        "      <td>400899381</td>\n",
        "      <td>4</td>\n",
        "      <td>5</td>\n",
        "      <td>57</td>\n",
        "      <td>1</td>\n",
        "      <td>Alley Oop Dunk Shot</td>\n",
        "      <td>2PT Field Goal</td>\n",
        "      <td>0</td>\n",
        "      <td>Miami Heat</td>\n",
        "      <td>0</td>\n",
        "      <td>1</td>\n",
        "      <td>0</td>\n",
        "      <td>0.0</td>\n",
        "      <td>NaN</td>\n",
        "      <td>0.0</td>\n",
        "      <td>0.0</td>\n",
        "    </tr>\n",
        "    <tr>\n",
        "      <th>1</th>\n",
        "      <td>Nerlens Noel</td>\n",
        "      <td>Philadelphia 76ers</td>\n",
        "      <td>2017-01-30</td>\n",
        "      <td>2016</td>\n",
        "      <td>2991280.0</td>\n",
        "      <td>1610612755</td>\n",
        "      <td>0</td>\n",
        "      <td>3</td>\n",
        "      <td>7</td>\n",
        "      <td>18</td>\n",
        "      <td>1</td>\n",
        "      <td>Alley Oop Dunk Shot</td>\n",
        "      <td>2PT Field Goal</td>\n",
        "      <td>0</td>\n",
        "      <td>Sacramento Kings</td>\n",
        "      <td>0</td>\n",
        "      <td>1</td>\n",
        "      <td>0</td>\n",
        "      <td>0.0</td>\n",
        "      <td>NaN</td>\n",
        "      <td>0.0</td>\n",
        "      <td>0.0</td>\n",
        "    </tr>\n",
        "    <tr>\n",
        "      <th>2</th>\n",
        "      <td>Jon Leuer</td>\n",
        "      <td>Detroit Pistons</td>\n",
        "      <td>2017-01-01</td>\n",
        "      <td>2016</td>\n",
        "      <td>6452.0</td>\n",
        "      <td>1610612765</td>\n",
        "      <td>400899381</td>\n",
        "      <td>1</td>\n",
        "      <td>3</td>\n",
        "      <td>29</td>\n",
        "      <td>0</td>\n",
        "      <td>Alley Oop Dunk Shot</td>\n",
        "      <td>2PT Field Goal</td>\n",
        "      <td>0</td>\n",
        "      <td>Miami Heat</td>\n",
        "      <td>0</td>\n",
        "      <td>1</td>\n",
        "      <td>0</td>\n",
        "      <td>0.0</td>\n",
        "      <td>NaN</td>\n",
        "      <td>0.0</td>\n",
        "      <td>0.0</td>\n",
        "    </tr>\n",
        "    <tr>\n",
        "      <th>3</th>\n",
        "      <td>Dwight Howard</td>\n",
        "      <td>Atlanta Hawks</td>\n",
        "      <td>2017-01-29</td>\n",
        "      <td>2016</td>\n",
        "      <td>2384.0</td>\n",
        "      <td>1610612737</td>\n",
        "      <td>400900132</td>\n",
        "      <td>4</td>\n",
        "      <td>0</td>\n",
        "      <td>45</td>\n",
        "      <td>1</td>\n",
        "      <td>Alley Oop Dunk Shot</td>\n",
        "      <td>2PT Field Goal</td>\n",
        "      <td>0</td>\n",
        "      <td>New York Knicks</td>\n",
        "      <td>0</td>\n",
        "      <td>1</td>\n",
        "      <td>0</td>\n",
        "      <td>0.0</td>\n",
        "      <td>NaN</td>\n",
        "      <td>0.0</td>\n",
        "      <td>0.0</td>\n",
        "    </tr>\n",
        "    <tr>\n",
        "      <th>4</th>\n",
        "      <td>Andre Drummond</td>\n",
        "      <td>Detroit Pistons</td>\n",
        "      <td>2017-01-01</td>\n",
        "      <td>2016</td>\n",
        "      <td>6585.0</td>\n",
        "      <td>1610612765</td>\n",
        "      <td>400899381</td>\n",
        "      <td>1</td>\n",
        "      <td>7</td>\n",
        "      <td>57</td>\n",
        "      <td>1</td>\n",
        "      <td>Alley Oop Dunk Shot</td>\n",
        "      <td>2PT Field Goal</td>\n",
        "      <td>0</td>\n",
        "      <td>Miami Heat</td>\n",
        "      <td>0</td>\n",
        "      <td>1</td>\n",
        "      <td>0</td>\n",
        "      <td>0.0</td>\n",
        "      <td>NaN</td>\n",
        "      <td>0.0</td>\n",
        "      <td>0.0</td>\n",
        "    </tr>\n",
        "  </tbody>\n",
        "</table>\n",
        "</div>"
       ],
       "metadata": {},
       "output_type": "pyout",
       "prompt_number": 95,
       "text": [
        "             name           team_name   game_date  season  espn_player_id  \\\n",
        "0  Andre Drummond     Detroit Pistons  2017-01-01    2016          6585.0   \n",
        "1    Nerlens Noel  Philadelphia 76ers  2017-01-30    2016       2991280.0   \n",
        "2       Jon Leuer     Detroit Pistons  2017-01-01    2016          6452.0   \n",
        "3   Dwight Howard       Atlanta Hawks  2017-01-29    2016          2384.0   \n",
        "4  Andre Drummond     Detroit Pistons  2017-01-01    2016          6585.0   \n",
        "\n",
        "      team_id  espn_game_id  period  minutes_remaining  seconds_remaining  \\\n",
        "0  1610612765     400899381       4                  5                 57   \n",
        "1  1610612755             0       3                  7                 18   \n",
        "2  1610612765     400899381       1                  3                 29   \n",
        "3  1610612737     400900132       4                  0                 45   \n",
        "4  1610612765     400899381       1                  7                 57   \n",
        "\n",
        "   shot_made_flag          action_type       shot_type  shot_distance  \\\n",
        "0               1  Alley Oop Dunk Shot  2PT Field Goal              0   \n",
        "1               1  Alley Oop Dunk Shot  2PT Field Goal              0   \n",
        "2               0  Alley Oop Dunk Shot  2PT Field Goal              0   \n",
        "3               1  Alley Oop Dunk Shot  2PT Field Goal              0   \n",
        "4               1  Alley Oop Dunk Shot  2PT Field Goal              0   \n",
        "\n",
        "           opponent  x  y  dribbles  touch_time  defender_name  \\\n",
        "0        Miami Heat  0  1         0         0.0            NaN   \n",
        "1  Sacramento Kings  0  1         0         0.0            NaN   \n",
        "2        Miami Heat  0  1         0         0.0            NaN   \n",
        "3   New York Knicks  0  1         0         0.0            NaN   \n",
        "4        Miami Heat  0  1         0         0.0            NaN   \n",
        "\n",
        "   defender_distance  shot_clock  \n",
        "0                0.0         0.0  \n",
        "1                0.0         0.0  \n",
        "2                0.0         0.0  \n",
        "3                0.0         0.0  \n",
        "4                0.0         0.0  "
       ]
      }
     ],
     "prompt_number": 95
    },
    {
     "cell_type": "markdown",
     "metadata": {},
     "source": [
      "Each row of the DataFrame consists of one shot (the observation) and 22 variables.  Those variables are the columns.  Note that the ... indicates we are not seeing all of the columns.  Pandas has a setting that gives the maximum number of columns to print.  It appears that value defaults to 20.  We can increase this value and then look at the first few rows again (using new max of 60, but 22 would suffice)."
     ]
    },
    {
     "cell_type": "code",
     "collapsed": false,
     "input": [
      "pd.set_option('display.max_columns', 60)\n",
      "shots.head()"
     ],
     "language": "python",
     "metadata": {},
     "outputs": [
      {
       "html": [
        "<div style=\"max-width:1500px;overflow:auto;\">\n",
        "<style>\n",
        "    .dataframe thead tr:only-child th {\n",
        "        text-align: right;\n",
        "    }\n",
        "\n",
        "    .dataframe thead th {\n",
        "        text-align: left;\n",
        "    }\n",
        "\n",
        "    .dataframe tbody tr th {\n",
        "        vertical-align: top;\n",
        "    }\n",
        "</style>\n",
        "<table border=\"1\" class=\"dataframe\">\n",
        "  <thead>\n",
        "    <tr style=\"text-align: right;\">\n",
        "      <th></th>\n",
        "      <th>name</th>\n",
        "      <th>team_name</th>\n",
        "      <th>game_date</th>\n",
        "      <th>season</th>\n",
        "      <th>espn_player_id</th>\n",
        "      <th>team_id</th>\n",
        "      <th>espn_game_id</th>\n",
        "      <th>period</th>\n",
        "      <th>minutes_remaining</th>\n",
        "      <th>seconds_remaining</th>\n",
        "      <th>shot_made_flag</th>\n",
        "      <th>action_type</th>\n",
        "      <th>shot_type</th>\n",
        "      <th>shot_distance</th>\n",
        "      <th>opponent</th>\n",
        "      <th>x</th>\n",
        "      <th>y</th>\n",
        "      <th>dribbles</th>\n",
        "      <th>touch_time</th>\n",
        "      <th>defender_name</th>\n",
        "      <th>defender_distance</th>\n",
        "      <th>shot_clock</th>\n",
        "    </tr>\n",
        "  </thead>\n",
        "  <tbody>\n",
        "    <tr>\n",
        "      <th>0</th>\n",
        "      <td>Andre Drummond</td>\n",
        "      <td>Detroit Pistons</td>\n",
        "      <td>2017-01-01</td>\n",
        "      <td>2016</td>\n",
        "      <td>6585.0</td>\n",
        "      <td>1610612765</td>\n",
        "      <td>400899381</td>\n",
        "      <td>4</td>\n",
        "      <td>5</td>\n",
        "      <td>57</td>\n",
        "      <td>1</td>\n",
        "      <td>Alley Oop Dunk Shot</td>\n",
        "      <td>2PT Field Goal</td>\n",
        "      <td>0</td>\n",
        "      <td>Miami Heat</td>\n",
        "      <td>0</td>\n",
        "      <td>1</td>\n",
        "      <td>0</td>\n",
        "      <td>0.0</td>\n",
        "      <td>NaN</td>\n",
        "      <td>0.0</td>\n",
        "      <td>0.0</td>\n",
        "    </tr>\n",
        "    <tr>\n",
        "      <th>1</th>\n",
        "      <td>Nerlens Noel</td>\n",
        "      <td>Philadelphia 76ers</td>\n",
        "      <td>2017-01-30</td>\n",
        "      <td>2016</td>\n",
        "      <td>2991280.0</td>\n",
        "      <td>1610612755</td>\n",
        "      <td>0</td>\n",
        "      <td>3</td>\n",
        "      <td>7</td>\n",
        "      <td>18</td>\n",
        "      <td>1</td>\n",
        "      <td>Alley Oop Dunk Shot</td>\n",
        "      <td>2PT Field Goal</td>\n",
        "      <td>0</td>\n",
        "      <td>Sacramento Kings</td>\n",
        "      <td>0</td>\n",
        "      <td>1</td>\n",
        "      <td>0</td>\n",
        "      <td>0.0</td>\n",
        "      <td>NaN</td>\n",
        "      <td>0.0</td>\n",
        "      <td>0.0</td>\n",
        "    </tr>\n",
        "    <tr>\n",
        "      <th>2</th>\n",
        "      <td>Jon Leuer</td>\n",
        "      <td>Detroit Pistons</td>\n",
        "      <td>2017-01-01</td>\n",
        "      <td>2016</td>\n",
        "      <td>6452.0</td>\n",
        "      <td>1610612765</td>\n",
        "      <td>400899381</td>\n",
        "      <td>1</td>\n",
        "      <td>3</td>\n",
        "      <td>29</td>\n",
        "      <td>0</td>\n",
        "      <td>Alley Oop Dunk Shot</td>\n",
        "      <td>2PT Field Goal</td>\n",
        "      <td>0</td>\n",
        "      <td>Miami Heat</td>\n",
        "      <td>0</td>\n",
        "      <td>1</td>\n",
        "      <td>0</td>\n",
        "      <td>0.0</td>\n",
        "      <td>NaN</td>\n",
        "      <td>0.0</td>\n",
        "      <td>0.0</td>\n",
        "    </tr>\n",
        "    <tr>\n",
        "      <th>3</th>\n",
        "      <td>Dwight Howard</td>\n",
        "      <td>Atlanta Hawks</td>\n",
        "      <td>2017-01-29</td>\n",
        "      <td>2016</td>\n",
        "      <td>2384.0</td>\n",
        "      <td>1610612737</td>\n",
        "      <td>400900132</td>\n",
        "      <td>4</td>\n",
        "      <td>0</td>\n",
        "      <td>45</td>\n",
        "      <td>1</td>\n",
        "      <td>Alley Oop Dunk Shot</td>\n",
        "      <td>2PT Field Goal</td>\n",
        "      <td>0</td>\n",
        "      <td>New York Knicks</td>\n",
        "      <td>0</td>\n",
        "      <td>1</td>\n",
        "      <td>0</td>\n",
        "      <td>0.0</td>\n",
        "      <td>NaN</td>\n",
        "      <td>0.0</td>\n",
        "      <td>0.0</td>\n",
        "    </tr>\n",
        "    <tr>\n",
        "      <th>4</th>\n",
        "      <td>Andre Drummond</td>\n",
        "      <td>Detroit Pistons</td>\n",
        "      <td>2017-01-01</td>\n",
        "      <td>2016</td>\n",
        "      <td>6585.0</td>\n",
        "      <td>1610612765</td>\n",
        "      <td>400899381</td>\n",
        "      <td>1</td>\n",
        "      <td>7</td>\n",
        "      <td>57</td>\n",
        "      <td>1</td>\n",
        "      <td>Alley Oop Dunk Shot</td>\n",
        "      <td>2PT Field Goal</td>\n",
        "      <td>0</td>\n",
        "      <td>Miami Heat</td>\n",
        "      <td>0</td>\n",
        "      <td>1</td>\n",
        "      <td>0</td>\n",
        "      <td>0.0</td>\n",
        "      <td>NaN</td>\n",
        "      <td>0.0</td>\n",
        "      <td>0.0</td>\n",
        "    </tr>\n",
        "  </tbody>\n",
        "</table>\n",
        "</div>"
       ],
       "metadata": {},
       "output_type": "pyout",
       "prompt_number": 96,
       "text": [
        "             name           team_name   game_date  season  espn_player_id  \\\n",
        "0  Andre Drummond     Detroit Pistons  2017-01-01    2016          6585.0   \n",
        "1    Nerlens Noel  Philadelphia 76ers  2017-01-30    2016       2991280.0   \n",
        "2       Jon Leuer     Detroit Pistons  2017-01-01    2016          6452.0   \n",
        "3   Dwight Howard       Atlanta Hawks  2017-01-29    2016          2384.0   \n",
        "4  Andre Drummond     Detroit Pistons  2017-01-01    2016          6585.0   \n",
        "\n",
        "      team_id  espn_game_id  period  minutes_remaining  seconds_remaining  \\\n",
        "0  1610612765     400899381       4                  5                 57   \n",
        "1  1610612755             0       3                  7                 18   \n",
        "2  1610612765     400899381       1                  3                 29   \n",
        "3  1610612737     400900132       4                  0                 45   \n",
        "4  1610612765     400899381       1                  7                 57   \n",
        "\n",
        "   shot_made_flag          action_type       shot_type  shot_distance  \\\n",
        "0               1  Alley Oop Dunk Shot  2PT Field Goal              0   \n",
        "1               1  Alley Oop Dunk Shot  2PT Field Goal              0   \n",
        "2               0  Alley Oop Dunk Shot  2PT Field Goal              0   \n",
        "3               1  Alley Oop Dunk Shot  2PT Field Goal              0   \n",
        "4               1  Alley Oop Dunk Shot  2PT Field Goal              0   \n",
        "\n",
        "           opponent  x  y  dribbles  touch_time  defender_name  \\\n",
        "0        Miami Heat  0  1         0         0.0            NaN   \n",
        "1  Sacramento Kings  0  1         0         0.0            NaN   \n",
        "2        Miami Heat  0  1         0         0.0            NaN   \n",
        "3   New York Knicks  0  1         0         0.0            NaN   \n",
        "4        Miami Heat  0  1         0         0.0            NaN   \n",
        "\n",
        "   defender_distance  shot_clock  \n",
        "0                0.0         0.0  \n",
        "1                0.0         0.0  \n",
        "2                0.0         0.0  \n",
        "3                0.0         0.0  \n",
        "4                0.0         0.0  "
       ]
      }
     ],
     "prompt_number": 96
    },
    {
     "cell_type": "heading",
     "level": 2,
     "metadata": {},
     "source": [
      "Strategy"
     ]
    },
    {
     "cell_type": "markdown",
     "metadata": {},
     "source": [
      "For an initial investigation, I plan on making the following assumptions:\n",
      "<ul>\n",
      "<li>Each player's shots are to be investigated as one sequence throughout the entire year.  A different, and perhaps more useful, choice would be to split up each players shots by game.  We will look at the data split by game later.\n",
      "<li>To consider the existence of the hot-hand effect we will only look at whether the previous shot was a make or miss.  The literature standard seems to be looking at shooting percentages after streaks of 1, 2, or 3 consecutive makes or misses.  We will handle more complicated scenarios later.\n",
      "<li>The only variables we will consider for analyzing each shot are those that determine:\n",
      "<ul>\n",
      "<li>Which player took the shot (name, espn_player_id)\n",
      "<li>When the shot was taken (game_date, period, minutes_remaining, seconds_remaining) [Note: these are used to determine the order the shots occurred in.]\n",
      "<li>Whether the shot was a make or miss (shot_made_flag)\n",
      "</ul>\n",
      "<li>We will not, at least initially, be considering other variables such as those associated to shot difficulty, opponents, or effects of other players shooting on a given night.\n",
      "</ul>"
     ]
    },
    {
     "cell_type": "heading",
     "level": 2,
     "metadata": {},
     "source": [
      "Rearranging the data"
     ]
    },
    {
     "cell_type": "markdown",
     "metadata": {},
     "source": [
      "Let's start by removing columns we are not interested in.  Actually, we are only keeping the columns we are interested in."
     ]
    },
    {
     "cell_type": "code",
     "collapsed": false,
     "input": [
      "shots = shots[:][['name', 'game_date', 'espn_player_id', 'period', 'minutes_remaining', 'seconds_remaining', 'shot_made_flag']]\n",
      "shots.head()"
     ],
     "language": "python",
     "metadata": {},
     "outputs": [
      {
       "html": [
        "<div style=\"max-width:1500px;overflow:auto;\">\n",
        "<style>\n",
        "    .dataframe thead tr:only-child th {\n",
        "        text-align: right;\n",
        "    }\n",
        "\n",
        "    .dataframe thead th {\n",
        "        text-align: left;\n",
        "    }\n",
        "\n",
        "    .dataframe tbody tr th {\n",
        "        vertical-align: top;\n",
        "    }\n",
        "</style>\n",
        "<table border=\"1\" class=\"dataframe\">\n",
        "  <thead>\n",
        "    <tr style=\"text-align: right;\">\n",
        "      <th></th>\n",
        "      <th>name</th>\n",
        "      <th>game_date</th>\n",
        "      <th>espn_player_id</th>\n",
        "      <th>period</th>\n",
        "      <th>minutes_remaining</th>\n",
        "      <th>seconds_remaining</th>\n",
        "      <th>shot_made_flag</th>\n",
        "    </tr>\n",
        "  </thead>\n",
        "  <tbody>\n",
        "    <tr>\n",
        "      <th>0</th>\n",
        "      <td>Andre Drummond</td>\n",
        "      <td>2017-01-01</td>\n",
        "      <td>6585.0</td>\n",
        "      <td>4</td>\n",
        "      <td>5</td>\n",
        "      <td>57</td>\n",
        "      <td>1</td>\n",
        "    </tr>\n",
        "    <tr>\n",
        "      <th>1</th>\n",
        "      <td>Nerlens Noel</td>\n",
        "      <td>2017-01-30</td>\n",
        "      <td>2991280.0</td>\n",
        "      <td>3</td>\n",
        "      <td>7</td>\n",
        "      <td>18</td>\n",
        "      <td>1</td>\n",
        "    </tr>\n",
        "    <tr>\n",
        "      <th>2</th>\n",
        "      <td>Jon Leuer</td>\n",
        "      <td>2017-01-01</td>\n",
        "      <td>6452.0</td>\n",
        "      <td>1</td>\n",
        "      <td>3</td>\n",
        "      <td>29</td>\n",
        "      <td>0</td>\n",
        "    </tr>\n",
        "    <tr>\n",
        "      <th>3</th>\n",
        "      <td>Dwight Howard</td>\n",
        "      <td>2017-01-29</td>\n",
        "      <td>2384.0</td>\n",
        "      <td>4</td>\n",
        "      <td>0</td>\n",
        "      <td>45</td>\n",
        "      <td>1</td>\n",
        "    </tr>\n",
        "    <tr>\n",
        "      <th>4</th>\n",
        "      <td>Andre Drummond</td>\n",
        "      <td>2017-01-01</td>\n",
        "      <td>6585.0</td>\n",
        "      <td>1</td>\n",
        "      <td>7</td>\n",
        "      <td>57</td>\n",
        "      <td>1</td>\n",
        "    </tr>\n",
        "  </tbody>\n",
        "</table>\n",
        "</div>"
       ],
       "metadata": {},
       "output_type": "pyout",
       "prompt_number": 97,
       "text": [
        "             name   game_date  espn_player_id  period  minutes_remaining  \\\n",
        "0  Andre Drummond  2017-01-01          6585.0       4                  5   \n",
        "1    Nerlens Noel  2017-01-30       2991280.0       3                  7   \n",
        "2       Jon Leuer  2017-01-01          6452.0       1                  3   \n",
        "3   Dwight Howard  2017-01-29          2384.0       4                  0   \n",
        "4  Andre Drummond  2017-01-01          6585.0       1                  7   \n",
        "\n",
        "   seconds_remaining  shot_made_flag  \n",
        "0                 57               1  \n",
        "1                 18               1  \n",
        "2                 29               0  \n",
        "3                 45               1  \n",
        "4                 57               1  "
       ]
      }
     ],
     "prompt_number": 97
    },
    {
     "cell_type": "markdown",
     "metadata": {},
     "source": [
      "Now we can sort the dataframe by player and date/time.  That will help us to easily find the previous shot for each player."
     ]
    },
    {
     "cell_type": "code",
     "collapsed": false,
     "input": [
      "shots = shots.sort_values(by=['espn_player_id', 'game_date','period','minutes_remaining','seconds_remaining'],axis=0,ascending=[True,True,True,False,False])\n",
      "shots.head()"
     ],
     "language": "python",
     "metadata": {},
     "outputs": [
      {
       "html": [
        "<div style=\"max-width:1500px;overflow:auto;\">\n",
        "<style>\n",
        "    .dataframe thead tr:only-child th {\n",
        "        text-align: right;\n",
        "    }\n",
        "\n",
        "    .dataframe thead th {\n",
        "        text-align: left;\n",
        "    }\n",
        "\n",
        "    .dataframe tbody tr th {\n",
        "        vertical-align: top;\n",
        "    }\n",
        "</style>\n",
        "<table border=\"1\" class=\"dataframe\">\n",
        "  <thead>\n",
        "    <tr style=\"text-align: right;\">\n",
        "      <th></th>\n",
        "      <th>name</th>\n",
        "      <th>game_date</th>\n",
        "      <th>espn_player_id</th>\n",
        "      <th>period</th>\n",
        "      <th>minutes_remaining</th>\n",
        "      <th>seconds_remaining</th>\n",
        "      <th>shot_made_flag</th>\n",
        "    </tr>\n",
        "  </thead>\n",
        "  <tbody>\n",
        "    <tr>\n",
        "      <th>4544</th>\n",
        "      <td>Metta World Peace</td>\n",
        "      <td>2016-10-30</td>\n",
        "      <td>25.0</td>\n",
        "      <td>1</td>\n",
        "      <td>2</td>\n",
        "      <td>38</td>\n",
        "      <td>0</td>\n",
        "    </tr>\n",
        "    <tr>\n",
        "      <th>189</th>\n",
        "      <td>Metta World Peace</td>\n",
        "      <td>2016-10-30</td>\n",
        "      <td>25.0</td>\n",
        "      <td>1</td>\n",
        "      <td>1</td>\n",
        "      <td>6</td>\n",
        "      <td>0</td>\n",
        "    </tr>\n",
        "    <tr>\n",
        "      <th>15320</th>\n",
        "      <td>Metta World Peace</td>\n",
        "      <td>2016-11-08</td>\n",
        "      <td>25.0</td>\n",
        "      <td>4</td>\n",
        "      <td>6</td>\n",
        "      <td>24</td>\n",
        "      <td>0</td>\n",
        "    </tr>\n",
        "    <tr>\n",
        "      <th>28798</th>\n",
        "      <td>Metta World Peace</td>\n",
        "      <td>2016-11-08</td>\n",
        "      <td>25.0</td>\n",
        "      <td>4</td>\n",
        "      <td>5</td>\n",
        "      <td>39</td>\n",
        "      <td>0</td>\n",
        "    </tr>\n",
        "    <tr>\n",
        "      <th>33601</th>\n",
        "      <td>Metta World Peace</td>\n",
        "      <td>2016-11-23</td>\n",
        "      <td>25.0</td>\n",
        "      <td>1</td>\n",
        "      <td>7</td>\n",
        "      <td>39</td>\n",
        "      <td>1</td>\n",
        "    </tr>\n",
        "  </tbody>\n",
        "</table>\n",
        "</div>"
       ],
       "metadata": {},
       "output_type": "pyout",
       "prompt_number": 98,
       "text": [
        "                    name   game_date  espn_player_id  period  \\\n",
        "4544   Metta World Peace  2016-10-30            25.0       1   \n",
        "189    Metta World Peace  2016-10-30            25.0       1   \n",
        "15320  Metta World Peace  2016-11-08            25.0       4   \n",
        "28798  Metta World Peace  2016-11-08            25.0       4   \n",
        "33601  Metta World Peace  2016-11-23            25.0       1   \n",
        "\n",
        "       minutes_remaining  seconds_remaining  shot_made_flag  \n",
        "4544                   2                 38               0  \n",
        "189                    1                  6               0  \n",
        "15320                  6                 24               0  \n",
        "28798                  5                 39               0  \n",
        "33601                  7                 39               1  "
       ]
      }
     ],
     "prompt_number": 98
    },
    {
     "cell_type": "markdown",
     "metadata": {},
     "source": [
      "Now we add a boolean variable to indicate if the previous shot was a make or miss."
     ]
    },
    {
     "cell_type": "code",
     "collapsed": false,
     "input": [
      "shots['previous_shot_made_flag'] = np.where((shots['shot_made_flag'].shift(1) == 1) & (shots['espn_player_id'] == shots['espn_player_id'].shift(1)),1,0)\n",
      "shots_only_previous = shots[shots['espn_player_id'] == shots['espn_player_id'].shift(1)]"
     ],
     "language": "python",
     "metadata": {},
     "outputs": [],
     "prompt_number": 99
    },
    {
     "cell_type": "markdown",
     "metadata": {},
     "source": [
      "We can now calculate the shooting percentage for each player both after a make and after a miss."
     ]
    },
    {
     "cell_type": "code",
     "collapsed": false,
     "input": [
      "player_shot_df = shots_only_previous[['previous_shot_made_flag','espn_player_id','shot_made_flag']].groupby(['espn_player_id','previous_shot_made_flag']).aggregate([numpy.mean,numpy.sum, size])\n",
      "player_shot_df.head()"
     ],
     "language": "python",
     "metadata": {},
     "outputs": [
      {
       "html": [
        "<div style=\"max-width:1500px;overflow:auto;\">\n",
        "<style>\n",
        "    .dataframe thead tr:only-child th {\n",
        "        text-align: right;\n",
        "    }\n",
        "\n",
        "    .dataframe thead th {\n",
        "        text-align: left;\n",
        "    }\n",
        "\n",
        "    .dataframe tbody tr th {\n",
        "        vertical-align: top;\n",
        "    }\n",
        "</style>\n",
        "<table border=\"1\" class=\"dataframe\">\n",
        "  <thead>\n",
        "    <tr>\n",
        "      <th></th>\n",
        "      <th></th>\n",
        "      <th colspan=\"3\" halign=\"left\">shot_made_flag</th>\n",
        "    </tr>\n",
        "    <tr>\n",
        "      <th></th>\n",
        "      <th></th>\n",
        "      <th>mean</th>\n",
        "      <th>sum</th>\n",
        "      <th>size</th>\n",
        "    </tr>\n",
        "    <tr>\n",
        "      <th>espn_player_id</th>\n",
        "      <th>previous_shot_made_flag</th>\n",
        "      <th></th>\n",
        "      <th></th>\n",
        "      <th></th>\n",
        "    </tr>\n",
        "  </thead>\n",
        "  <tbody>\n",
        "    <tr>\n",
        "      <th rowspan=\"2\" valign=\"top\">25.0</th>\n",
        "      <th>0</th>\n",
        "      <td>0.285714</td>\n",
        "      <td>6</td>\n",
        "      <td>21</td>\n",
        "    </tr>\n",
        "    <tr>\n",
        "      <th>1</th>\n",
        "      <td>0.000000</td>\n",
        "      <td>0</td>\n",
        "      <td>6</td>\n",
        "    </tr>\n",
        "    <tr>\n",
        "      <th rowspan=\"2\" valign=\"top\">136.0</th>\n",
        "      <th>0</th>\n",
        "      <td>0.380435</td>\n",
        "      <td>105</td>\n",
        "      <td>276</td>\n",
        "    </tr>\n",
        "    <tr>\n",
        "      <th>1</th>\n",
        "      <td>0.412429</td>\n",
        "      <td>73</td>\n",
        "      <td>177</td>\n",
        "    </tr>\n",
        "    <tr>\n",
        "      <th>165.0</th>\n",
        "      <th>0</th>\n",
        "      <td>0.430435</td>\n",
        "      <td>198</td>\n",
        "      <td>460</td>\n",
        "    </tr>\n",
        "  </tbody>\n",
        "</table>\n",
        "</div>"
       ],
       "metadata": {},
       "output_type": "pyout",
       "prompt_number": 100,
       "text": [
        "                                       shot_made_flag          \n",
        "                                                 mean  sum size\n",
        "espn_player_id previous_shot_made_flag                         \n",
        "25.0           0                             0.285714    6   21\n",
        "               1                             0.000000    0    6\n",
        "136.0          0                             0.380435  105  276\n",
        "               1                             0.412429   73  177\n",
        "165.0          0                             0.430435  198  460"
       ]
      }
     ],
     "prompt_number": 100
    },
    {
     "cell_type": "markdown",
     "metadata": {},
     "source": [
      "Adding columns for easier access of percentage after miss and make."
     ]
    },
    {
     "cell_type": "code",
     "collapsed": false,
     "input": [
      "player_shot_df_unstack = player_shot_df.unstack()\n",
      "player_shot_df_unstack['percent_after_miss'] = player_shot_df_unstack.loc[:]['shot_made_flag']['mean'][0]\n",
      "player_shot_df_unstack['percent_after_make'] = player_shot_df_unstack.loc[:]['shot_made_flag']['mean'][1]\n",
      "player_shot_df_unstack['num_shots'] = player_shot_df_unstack.loc[:]['shot_made_flag']['size'][0] + player_shot_df_unstack.loc[:]['shot_made_flag']['size'][1]\n",
      "player_shot_df_unstack.head()"
     ],
     "language": "python",
     "metadata": {},
     "outputs": [
      {
       "html": [
        "<div style=\"max-width:1500px;overflow:auto;\">\n",
        "<style>\n",
        "    .dataframe thead tr:only-child th {\n",
        "        text-align: right;\n",
        "    }\n",
        "\n",
        "    .dataframe thead th {\n",
        "        text-align: left;\n",
        "    }\n",
        "\n",
        "    .dataframe tbody tr th {\n",
        "        vertical-align: top;\n",
        "    }\n",
        "</style>\n",
        "<table border=\"1\" class=\"dataframe\">\n",
        "  <thead>\n",
        "    <tr>\n",
        "      <th></th>\n",
        "      <th colspan=\"6\" halign=\"left\">shot_made_flag</th>\n",
        "      <th>percent_after_miss</th>\n",
        "      <th>percent_after_make</th>\n",
        "      <th>num_shots</th>\n",
        "    </tr>\n",
        "    <tr>\n",
        "      <th></th>\n",
        "      <th colspan=\"2\" halign=\"left\">mean</th>\n",
        "      <th colspan=\"2\" halign=\"left\">sum</th>\n",
        "      <th colspan=\"2\" halign=\"left\">size</th>\n",
        "      <th></th>\n",
        "      <th></th>\n",
        "      <th></th>\n",
        "    </tr>\n",
        "    <tr>\n",
        "      <th>previous_shot_made_flag</th>\n",
        "      <th>0</th>\n",
        "      <th>1</th>\n",
        "      <th>0</th>\n",
        "      <th>1</th>\n",
        "      <th>0</th>\n",
        "      <th>1</th>\n",
        "      <th></th>\n",
        "      <th></th>\n",
        "      <th></th>\n",
        "    </tr>\n",
        "    <tr>\n",
        "      <th>espn_player_id</th>\n",
        "      <th></th>\n",
        "      <th></th>\n",
        "      <th></th>\n",
        "      <th></th>\n",
        "      <th></th>\n",
        "      <th></th>\n",
        "      <th></th>\n",
        "      <th></th>\n",
        "      <th></th>\n",
        "    </tr>\n",
        "  </thead>\n",
        "  <tbody>\n",
        "    <tr>\n",
        "      <th>25.0</th>\n",
        "      <td>0.285714</td>\n",
        "      <td>0.000000</td>\n",
        "      <td>6.0</td>\n",
        "      <td>0.0</td>\n",
        "      <td>21.0</td>\n",
        "      <td>6.0</td>\n",
        "      <td>0.285714</td>\n",
        "      <td>0.000000</td>\n",
        "      <td>27.0</td>\n",
        "    </tr>\n",
        "    <tr>\n",
        "      <th>136.0</th>\n",
        "      <td>0.380435</td>\n",
        "      <td>0.412429</td>\n",
        "      <td>105.0</td>\n",
        "      <td>73.0</td>\n",
        "      <td>276.0</td>\n",
        "      <td>177.0</td>\n",
        "      <td>0.380435</td>\n",
        "      <td>0.412429</td>\n",
        "      <td>453.0</td>\n",
        "    </tr>\n",
        "    <tr>\n",
        "      <th>165.0</th>\n",
        "      <td>0.430435</td>\n",
        "      <td>0.386997</td>\n",
        "      <td>198.0</td>\n",
        "      <td>125.0</td>\n",
        "      <td>460.0</td>\n",
        "      <td>323.0</td>\n",
        "      <td>0.430435</td>\n",
        "      <td>0.386997</td>\n",
        "      <td>783.0</td>\n",
        "    </tr>\n",
        "    <tr>\n",
        "      <th>272.0</th>\n",
        "      <td>0.385593</td>\n",
        "      <td>0.386667</td>\n",
        "      <td>91.0</td>\n",
        "      <td>58.0</td>\n",
        "      <td>236.0</td>\n",
        "      <td>150.0</td>\n",
        "      <td>0.385593</td>\n",
        "      <td>0.386667</td>\n",
        "      <td>386.0</td>\n",
        "    </tr>\n",
        "    <tr>\n",
        "      <th>558.0</th>\n",
        "      <td>0.285714</td>\n",
        "      <td>0.500000</td>\n",
        "      <td>2.0</td>\n",
        "      <td>3.0</td>\n",
        "      <td>7.0</td>\n",
        "      <td>6.0</td>\n",
        "      <td>0.285714</td>\n",
        "      <td>0.500000</td>\n",
        "      <td>13.0</td>\n",
        "    </tr>\n",
        "  </tbody>\n",
        "</table>\n",
        "</div>"
       ],
       "metadata": {},
       "output_type": "pyout",
       "prompt_number": 101,
       "text": [
        "                        shot_made_flag                                        \\\n",
        "                                  mean              sum          size          \n",
        "previous_shot_made_flag              0         1      0      1      0      1   \n",
        "espn_player_id                                                                 \n",
        "25.0                          0.285714  0.000000    6.0    0.0   21.0    6.0   \n",
        "136.0                         0.380435  0.412429  105.0   73.0  276.0  177.0   \n",
        "165.0                         0.430435  0.386997  198.0  125.0  460.0  323.0   \n",
        "272.0                         0.385593  0.386667   91.0   58.0  236.0  150.0   \n",
        "558.0                         0.285714  0.500000    2.0    3.0    7.0    6.0   \n",
        "\n",
        "                        percent_after_miss percent_after_make num_shots  \n",
        "                                                                         \n",
        "previous_shot_made_flag                                                  \n",
        "espn_player_id                                                           \n",
        "25.0                              0.285714           0.000000      27.0  \n",
        "136.0                             0.380435           0.412429     453.0  \n",
        "165.0                             0.430435           0.386997     783.0  \n",
        "272.0                             0.385593           0.386667     386.0  \n",
        "558.0                             0.285714           0.500000      13.0  "
       ]
      }
     ],
     "prompt_number": 101
    },
    {
     "cell_type": "markdown",
     "metadata": {},
     "source": [
      "We now have the shooting percentage for every player both after a miss and after a make.  If shooters do not get \"hot\", then it seems reasonable that for each player that percent_after_miss and percent_after_make should be roughly equal.  If shooters do get \"hot\", then it seems reasonable that for each player that percent_after_miss should typically be less than percent_after_make."
     ]
    },
    {
     "cell_type": "heading",
     "level": 2,
     "metadata": {},
     "source": [
      "Analyzing the data"
     ]
    },
    {
     "cell_type": "markdown",
     "metadata": {},
     "source": [
      "To start investigating these questions we can first plot the data in a scatter plot.  Points will be plotted with red points for a player that has a higher percentage after a make and blue points for a player that has a higher percentage after a miss."
     ]
    },
    {
     "cell_type": "code",
     "collapsed": false,
     "input": [
      "colors = np.where(player_shot_df_unstack['percent_after_miss']>player_shot_df_unstack['percent_after_make'], 'b', 'r')\n",
      "player_shot_df_unstack.plot(x='percent_after_miss', y='percent_after_make', kind='scatter', c=colors, figsize=(12,6))"
     ],
     "language": "python",
     "metadata": {},
     "outputs": [
      {
       "metadata": {},
       "output_type": "pyout",
       "prompt_number": 102,
       "text": [
        "<matplotlib.axes._subplots.AxesSubplot at 0x7fa2da1f5a10>"
       ]
      },
      {
       "metadata": {},
       "output_type": "display_data",
       "png": "[encoded data removed]",
       "text": [
        "<matplotlib.figure.Figure at 0x7fa2da1f2f50>"
       ]
      }
     ],
     "prompt_number": 102
    },
    {
     "cell_type": "markdown",
     "metadata": {},
     "source": [
      "The previous scatter plot does not seem to allow us to defnitively conclude much of anything.  Players seem roughly split between those that shoot better after a miss and those that shoot better after a make.\n",
      "\n",
      "We can run statistical tests to evaluate the results objectively.\n",
      "\n",
      "The first test we will try is a t-test.  Our null hypothesis will be that shooting percentage after a make and shooting percentage after a miss are the same.  The alternative hypothesis will be that shooting percentage after a make is greater than shooting percentage after a miss.  Let's assume an alpha value of 0.05 which means that we need a p-value less than 0.05 to reject the null hypothesis and conclude the data support that players have a better shooting percentage after a make.  Note that this results in a one-tailed test.  Annoyingly, python's standard libraries seem to only compute p-values for a two-tailed test.  That means we need to divide the python calculated p-value by 2 and then possibly subtracting from 1 (depending on whether the t-statistic is positive or negative) to get our true p-value."
     ]
    },
    {
     "cell_type": "code",
     "collapsed": false,
     "input": [
      "import scipy.stats\n",
      "\n",
      "(t, p) = scipy.stats.ttest_1samp(player_shot_df_unstack['percent_after_make']-player_shot_df_unstack['percent_after_miss'],0,nan_policy='omit')\n",
      "if t > 0:\n",
      "    # t>0 implies percent_after_make is generally greater than percent_after_miss\n",
      "    # so this is the tail that (at least somewhat) supports our alternative hypothesis\n",
      "    p = p/2\n",
      "else:\n",
      "    # t<0 implies percent_after_make is generally less than percent_after_miss\n",
      "    # so this is the tail that definitely does not support our alternative hypothesis\n",
      "    p = 1 - p/2\n",
      "p"
     ],
     "language": "python",
     "metadata": {},
     "outputs": [
      {
       "metadata": {},
       "output_type": "pyout",
       "prompt_number": 103,
       "text": [
        "0.99951561688842283"
       ]
      }
     ],
     "prompt_number": 103
    },
    {
     "cell_type": "markdown",
     "metadata": {},
     "source": [
      "So, our p-value is (much) larger than 0.05 which means the data do not support the hot hand hypothesis.  In fact, the data would have supported the hypothesis that the average shooting percentage of players is higher after a miss than after a make.\n",
      "\n",
      "This p-value feels suspiciously high.  Maybe we should check with some random data.  We can fill in the shot_made_flag column with random values of 0 or 1 and see what the result is.  If everything is set up correctly, then we should get an average p-value of 0.5.  Note that this implies that we will want to rerun a p-value calculation multiple times, so we should create a function."
     ]
    },
    {
     "cell_type": "code",
     "collapsed": false,
     "input": [
      "def calculatePValueForShootingPercentageAfterMake(shots):\n",
      "    shots = shots.sort_values(by=['espn_player_id', 'game_date','period','minutes_remaining','seconds_remaining'],axis=0,ascending=[True,True,True,False,False])\n",
      "    shots['previous_shot_made_flag'] = np.where((shots['shot_made_flag'].shift(1) == 1) & (shots['espn_player_id'] == shots['espn_player_id'].shift(1)),1,0)\n",
      "    shots_only_previous = shots[shots['espn_player_id'] == shots['espn_player_id'].shift(1)]\n",
      "    player_shot_df = shots_only_previous[['previous_shot_made_flag','espn_player_id','shot_made_flag']].groupby(['espn_player_id','previous_shot_made_flag']).aggregate([numpy.mean,numpy.sum,size])\n",
      "    player_shot_df_unstack = player_shot_df.unstack()\n",
      "    player_shot_df_unstack['percent_after_miss'] = player_shot_df_unstack.loc[:]['shot_made_flag']['mean'][0]\n",
      "    player_shot_df_unstack['percent_after_make'] = player_shot_df_unstack.loc[:]['shot_made_flag']['mean'][1]\n",
      "    \n",
      "    (t, p) = scipy.stats.ttest_1samp(player_shot_df_unstack['percent_after_make']-player_shot_df_unstack['percent_after_miss'],0,nan_policy='omit')\n",
      "    if t > 0:\n",
      "        # t>0 implies percent_after_make is generally greater than percent_after_miss\n",
      "        # so this is the tail that (at least somewhat) supports our alternative hypothesis\n",
      "        p = p/2\n",
      "    else:\n",
      "        # t<0 implies percent_after_make is generally less than percent_after_miss\n",
      "        # so this is the tail that definitely does not support our alternative hypothesis\n",
      "        p = 1 - p/2\n",
      "    return p\n",
      "\n",
      "calculatePValueForShootingPercentageAfterMake(shots)\n"
     ],
     "language": "python",
     "metadata": {},
     "outputs": [
      {
       "metadata": {},
       "output_type": "pyout",
       "prompt_number": 104,
       "text": [
        "0.99951561688842283"
       ]
      }
     ],
     "prompt_number": 104
    },
    {
     "cell_type": "markdown",
     "metadata": {},
     "source": [
      "Now, lets run the function on some random values and see if we get p-values spread around 0.5 or not."
     ]
    },
    {
     "cell_type": "code",
     "collapsed": false,
     "input": [
      "for x in range(20):\n",
      "    shotsCopy = shots.copy()\n",
      "    shotsCopy['shot_made_flag'] = np.random.randint(0,2,size=shots['shot_made_flag'].count())\n",
      "    print(calculatePValueForShootingPercentageAfterMake(shotsCopy))"
     ],
     "language": "python",
     "metadata": {},
     "outputs": [
      {
       "output_type": "stream",
       "stream": "stdout",
       "text": [
        "0.987015324679\n",
        "0.99810873986"
       ]
      },
      {
       "output_type": "stream",
       "stream": "stdout",
       "text": [
        "\n",
        "0.972385490329"
       ]
      },
      {
       "output_type": "stream",
       "stream": "stdout",
       "text": [
        "\n",
        "0.995724510266"
       ]
      },
      {
       "output_type": "stream",
       "stream": "stdout",
       "text": [
        "\n",
        "0.99500337545"
       ]
      },
      {
       "output_type": "stream",
       "stream": "stdout",
       "text": [
        "\n",
        "0.992046481997"
       ]
      },
      {
       "output_type": "stream",
       "stream": "stdout",
       "text": [
        "\n",
        "0.99231528779"
       ]
      },
      {
       "output_type": "stream",
       "stream": "stdout",
       "text": [
        "\n",
        "0.983890834279"
       ]
      },
      {
       "output_type": "stream",
       "stream": "stdout",
       "text": [
        "\n",
        "0.999872765823"
       ]
      },
      {
       "output_type": "stream",
       "stream": "stdout",
       "text": [
        "\n",
        "0.983116992669"
       ]
      },
      {
       "output_type": "stream",
       "stream": "stdout",
       "text": [
        "\n",
        "0.997484208824"
       ]
      },
      {
       "output_type": "stream",
       "stream": "stdout",
       "text": [
        "\n",
        "0.999978372452"
       ]
      },
      {
       "output_type": "stream",
       "stream": "stdout",
       "text": [
        "\n",
        "0.999965389332"
       ]
      },
      {
       "output_type": "stream",
       "stream": "stdout",
       "text": [
        "\n",
        "0.99454402194"
       ]
      },
      {
       "output_type": "stream",
       "stream": "stdout",
       "text": [
        "\n",
        "0.997947100191"
       ]
      },
      {
       "output_type": "stream",
       "stream": "stdout",
       "text": [
        "\n",
        "0.607844362848"
       ]
      },
      {
       "output_type": "stream",
       "stream": "stdout",
       "text": [
        "\n",
        "0.996373775236"
       ]
      },
      {
       "output_type": "stream",
       "stream": "stdout",
       "text": [
        "\n",
        "0.95195983428"
       ]
      },
      {
       "output_type": "stream",
       "stream": "stdout",
       "text": [
        "\n",
        "0.992511066685"
       ]
      },
      {
       "output_type": "stream",
       "stream": "stdout",
       "text": [
        "\n",
        "0.99847957737"
       ]
      },
      {
       "output_type": "stream",
       "stream": "stdout",
       "text": [
        "\n"
       ]
      }
     ],
     "prompt_number": 105
    },
    {
     "cell_type": "markdown",
     "metadata": {},
     "source": [
      "Those results suggest something is wrong in our calculations since the random p-values are clustered near 1 when they should be balanced around 0.5.\n",
      "\n",
      "It turns out that Miller and Sanjurjo published a paper in 2015 explaining where our previous calculations went wrong.  Suprisingly, from random data the expected value of the observed percentage after a make is lower than the expected value of the observed percentage after a miss.  In fact, if there were n total shots, then the expected difference in the observed shooting percentages after a make and a miss is 1/(n-1).\n",
      "\n",
      "We can adjust our function for calculating p-values accordingly."
     ]
    },
    {
     "cell_type": "code",
     "collapsed": false,
     "input": [
      "def calculatePValueForShootingPercentageAfterMake(shots):\n",
      "    shots = shots.sort_values(by=['espn_player_id', 'game_date','period','minutes_remaining','seconds_remaining'],axis=0,ascending=[True,True,True,False,False])\n",
      "    shots['previous_shot_made_flag'] = np.where(shots['shot_made_flag'].shift(1) == 1,1,0)\n",
      "    shots_only_previous = shots[shots['espn_player_id'] == shots['espn_player_id'].shift(1)]\n",
      "    player_shot_df = shots_only_previous[['previous_shot_made_flag','espn_player_id','shot_made_flag']].groupby(['espn_player_id','previous_shot_made_flag']).aggregate([numpy.mean,numpy.sum,size])\n",
      "    player_shot_df_unstack = player_shot_df.unstack()\n",
      "    player_shot_df_unstack['percent_after_miss'] = player_shot_df_unstack.loc[:]['shot_made_flag']['mean'][0]\n",
      "    player_shot_df_unstack['percent_after_make'] = player_shot_df_unstack.loc[:]['shot_made_flag']['mean'][1]\n",
      "    player_shot_df_unstack['num_shots'] = player_shot_df_unstack.loc[:]['shot_made_flag']['size'][1] + player_shot_df_unstack.loc[:]['shot_made_flag']['size'][0]\n",
      "    \n",
      "    (t, p) = scipy.stats.ttest_1samp(player_shot_df_unstack['percent_after_make']-player_shot_df_unstack['percent_after_miss']+1/(player_shot_df_unstack['num_shots']),0,nan_policy='omit')\n",
      "    if t > 0:\n",
      "        # t>0 implies percent_after_make is generally greater than percent_after_miss\n",
      "        # so this is the tail that (at least somewhat) supports our alternative hypothesis\n",
      "        p = p/2\n",
      "    else:\n",
      "        # t<0 implies percent_after_make is generally less than percent_after_miss\n",
      "        # so this is the tail that definitely does not support our alternative hypothesis\n",
      "        p = 1 - p/2\n",
      "    return p\n",
      "\n",
      "calculatePValueForShootingPercentageAfterMake(shots)\n"
     ],
     "language": "python",
     "metadata": {},
     "outputs": [
      {
       "metadata": {},
       "output_type": "pyout",
       "prompt_number": 106,
       "text": [
        "0.75880592310433004"
       ]
      }
     ],
     "prompt_number": 106
    },
    {
     "cell_type": "markdown",
     "metadata": {},
     "source": [
      "The new function gives a p-value of 0.7588 which is larger than 0.05, so we still fail to conclude that NBA players' shooting percentages go up after a make.\n",
      "\n",
      "Let's validate the new funciton against random data.  Again, we expect p-values to be spread around 0.5."
     ]
    },
    {
     "cell_type": "code",
     "collapsed": false,
     "input": [
      "pValues = []\n",
      "numOver5 = 0\n",
      "for x in range(50):\n",
      "    shotsCopy = shots.copy()\n",
      "    shotsCopy['shot_made_flag'] = np.random.randint(0,2,size=shots['shot_made_flag'].count())\n",
      "    p = calculatePValueForShootingPercentageAfterMake(shotsCopy)\n",
      "    pValues.append(p)\n",
      "    if p>0.5:\n",
      "        numOver5 = numOver5 + 1\n",
      "    print(p)\n",
      "print \"average p-value: \" + str(numpy.mean(pValues))\n",
      "print \"number of p-values over 0.5: \" + str(numOver5)\n"
     ],
     "language": "python",
     "metadata": {},
     "outputs": [
      {
       "output_type": "stream",
       "stream": "stdout",
       "text": [
        "0.592743550729\n",
        "0.809629318408"
       ]
      },
      {
       "output_type": "stream",
       "stream": "stdout",
       "text": [
        "\n",
        "0.04447114163"
       ]
      },
      {
       "output_type": "stream",
       "stream": "stdout",
       "text": [
        "\n",
        "0.103455826069"
       ]
      },
      {
       "output_type": "stream",
       "stream": "stdout",
       "text": [
        "\n",
        "0.58881437794"
       ]
      },
      {
       "output_type": "stream",
       "stream": "stdout",
       "text": [
        "\n",
        "0.0362566975562"
       ]
      },
      {
       "output_type": "stream",
       "stream": "stdout",
       "text": [
        "\n",
        "0.331534417208"
       ]
      },
      {
       "output_type": "stream",
       "stream": "stdout",
       "text": [
        "\n",
        "0.874234371817"
       ]
      },
      {
       "output_type": "stream",
       "stream": "stdout",
       "text": [
        "\n",
        "0.842072006868"
       ]
      },
      {
       "output_type": "stream",
       "stream": "stdout",
       "text": [
        "\n",
        "0.56353910289"
       ]
      },
      {
       "output_type": "stream",
       "stream": "stdout",
       "text": [
        "\n",
        "0.571471604982"
       ]
      },
      {
       "output_type": "stream",
       "stream": "stdout",
       "text": [
        "\n",
        "0.769500628421"
       ]
      },
      {
       "output_type": "stream",
       "stream": "stdout",
       "text": [
        "\n",
        "0.111956023608"
       ]
      },
      {
       "output_type": "stream",
       "stream": "stdout",
       "text": [
        "\n",
        "0.573085040782"
       ]
      },
      {
       "output_type": "stream",
       "stream": "stdout",
       "text": [
        "\n",
        "0.655854559806"
       ]
      },
      {
       "output_type": "stream",
       "stream": "stdout",
       "text": [
        "\n",
        "0.236925098324"
       ]
      },
      {
       "output_type": "stream",
       "stream": "stdout",
       "text": [
        "\n",
        "0.615636555191"
       ]
      },
      {
       "output_type": "stream",
       "stream": "stdout",
       "text": [
        "\n",
        "0.90241101987"
       ]
      },
      {
       "output_type": "stream",
       "stream": "stdout",
       "text": [
        "\n",
        "0.755081606637"
       ]
      },
      {
       "output_type": "stream",
       "stream": "stdout",
       "text": [
        "\n",
        "0.938567928815"
       ]
      },
      {
       "output_type": "stream",
       "stream": "stdout",
       "text": [
        "\n",
        "0.941938106202"
       ]
      },
      {
       "output_type": "stream",
       "stream": "stdout",
       "text": [
        "\n",
        "0.0848820177976"
       ]
      },
      {
       "output_type": "stream",
       "stream": "stdout",
       "text": [
        "\n",
        "0.829585695427"
       ]
      },
      {
       "output_type": "stream",
       "stream": "stdout",
       "text": [
        "\n",
        "0.244056836835"
       ]
      },
      {
       "output_type": "stream",
       "stream": "stdout",
       "text": [
        "\n",
        "0.65623883303"
       ]
      },
      {
       "output_type": "stream",
       "stream": "stdout",
       "text": [
        "\n",
        "0.0464684901286"
       ]
      },
      {
       "output_type": "stream",
       "stream": "stdout",
       "text": [
        "\n",
        "0.975363317496"
       ]
      },
      {
       "output_type": "stream",
       "stream": "stdout",
       "text": [
        "\n",
        "0.10724609467"
       ]
      },
      {
       "output_type": "stream",
       "stream": "stdout",
       "text": [
        "\n",
        "0.561627808353"
       ]
      },
      {
       "output_type": "stream",
       "stream": "stdout",
       "text": [
        "\n",
        "0.653560560677"
       ]
      },
      {
       "output_type": "stream",
       "stream": "stdout",
       "text": [
        "\n",
        "0.327958082581"
       ]
      },
      {
       "output_type": "stream",
       "stream": "stdout",
       "text": [
        "\n",
        "0.125866689823"
       ]
      },
      {
       "output_type": "stream",
       "stream": "stdout",
       "text": [
        "\n",
        "0.285257968531"
       ]
      },
      {
       "output_type": "stream",
       "stream": "stdout",
       "text": [
        "\n",
        "0.397092155866"
       ]
      },
      {
       "output_type": "stream",
       "stream": "stdout",
       "text": [
        "\n",
        "0.291487059535"
       ]
      },
      {
       "output_type": "stream",
       "stream": "stdout",
       "text": [
        "\n",
        "0.923969764582"
       ]
      },
      {
       "output_type": "stream",
       "stream": "stdout",
       "text": [
        "\n",
        "0.902672539373"
       ]
      },
      {
       "output_type": "stream",
       "stream": "stdout",
       "text": [
        "\n",
        "0.226790979654"
       ]
      },
      {
       "output_type": "stream",
       "stream": "stdout",
       "text": [
        "\n",
        "0.514772245617"
       ]
      },
      {
       "output_type": "stream",
       "stream": "stdout",
       "text": [
        "\n",
        "0.438864713541"
       ]
      },
      {
       "output_type": "stream",
       "stream": "stdout",
       "text": [
        "\n",
        "0.700446335737"
       ]
      },
      {
       "output_type": "stream",
       "stream": "stdout",
       "text": [
        "\n",
        "0.102497404475"
       ]
      },
      {
       "output_type": "stream",
       "stream": "stdout",
       "text": [
        "\n",
        "0.918573019472"
       ]
      },
      {
       "output_type": "stream",
       "stream": "stdout",
       "text": [
        "\n",
        "0.822169439822"
       ]
      },
      {
       "output_type": "stream",
       "stream": "stdout",
       "text": [
        "\n",
        "0.84949004472"
       ]
      },
      {
       "output_type": "stream",
       "stream": "stdout",
       "text": [
        "\n",
        "0.862809683136"
       ]
      },
      {
       "output_type": "stream",
       "stream": "stdout",
       "text": [
        "\n",
        "0.316652065099"
       ]
      },
      {
       "output_type": "stream",
       "stream": "stdout",
       "text": [
        "\n",
        "0.607256081235"
       ]
      },
      {
       "output_type": "stream",
       "stream": "stdout",
       "text": [
        "\n",
        "0.20456157037"
       ]
      },
      {
       "output_type": "stream",
       "stream": "stdout",
       "text": [
        "\n",
        "0.754075223683"
       ]
      },
      {
       "output_type": "stream",
       "stream": "stdout",
       "text": [
        "\n",
        "average p-value: 0.5318294341\n",
        "number of p-values over 0.5: 30\n"
       ]
      }
     ],
     "prompt_number": 107
    },
    {
     "cell_type": "markdown",
     "metadata": {},
     "source": [
      "Our p-value calculation is validated by random data since we get an average p-value near 0.5 and roughly half of the p-values over 0.5."
     ]
    },
    {
     "cell_type": "markdown",
     "metadata": {},
     "source": [
      "Where to go from here?  There are a number of things we could tidy up.  Some of these include the following.\n",
      "\n",
      "<ul>\n",
      "<li>Each player's shots are viewed as one sequence for the entire year.  We could split each player's shots on a per game basis.\n",
      "<li>The t-test assumes that the distribution of differences between percent after make and miss is normally distributed.  We could look into the validity of that assumption.\n",
      "<li>There seem to be a fair number of outliers in the scatter plot.  It seems likely that a lot of the outliers are players that took very few shots.  One option to deal with the outliers would be to only consider players that took at least a certain number of shots.  That seems tempting at first, but once we split each players shots into individual games we will need to consider relatively small numbers of shots anyway.  Hopefully, we can use appropriate statistics to account for a player with a small number of shots.  The essential problem we have is that we are using something roughly akin to an average-of-averages which is problematic with each inner average having a different sample size.\n",
      "<li>We can extend our analysis to look at more than the previous shot.  Maybe the previous n shots for some n=2 or n=3.\n",
      "<li>We could account for the different shot types.  Maybe do something like only looking at 3-point shots or jump shots.\n",
      "<li>We could apply machine learning (or other) techniques to look for patterns in the players that do have a better shooting percentage after a make or a miss.\n",
      "</ul>"
     ]
    },
    {
     "cell_type": "heading",
     "level": 2,
     "metadata": {},
     "source": [
      "Splitting shots on a per game basis"
     ]
    },
    {
     "cell_type": "markdown",
     "metadata": {},
     "source": [
      "In principal we should be able to use almost the same procedure as when we split on player only.  We just need to group by both the player and the game."
     ]
    },
    {
     "cell_type": "code",
     "collapsed": false,
     "input": [
      "def calculatePValueForShootingPercentageAfterMake(shots):\n",
      "    shots = shots.sort_values(by=['espn_player_id', 'game_date','period','minutes_remaining','seconds_remaining'],axis=0,ascending=[True,True,True,False,False])\n",
      "    shots['previous_shot_made_flag'] = np.where(shots['shot_made_flag'].shift(1) == 1,1,0)\n",
      "    shots_only_previous = shots[(shots['espn_player_id'] == shots['espn_player_id'].shift(1)) & (shots['game_date'] == shots['game_date'].shift(1))]\n",
      "    player_shot_df = shots_only_previous[['previous_shot_made_flag','espn_player_id','game_date','shot_made_flag']].groupby(['espn_player_id','game_date','previous_shot_made_flag']).aggregate([numpy.mean,numpy.sum,size])\n",
      "    player_shot_df_unstack = player_shot_df.unstack()\n",
      "    player_shot_df_unstack['percent_after_miss'] = player_shot_df_unstack.loc[:]['shot_made_flag']['mean'][0]\n",
      "    player_shot_df_unstack['percent_after_make'] = player_shot_df_unstack.loc[:]['shot_made_flag']['mean'][1]\n",
      "    player_shot_df_unstack['num_shots'] = player_shot_df_unstack.loc[:]['shot_made_flag']['size'][1] + player_shot_df_unstack.loc[:]['shot_made_flag']['size'][0]\n",
      "    \n",
      "    (t, p) = scipy.stats.ttest_1samp(player_shot_df_unstack['percent_after_make']-player_shot_df_unstack['percent_after_miss']+1/(player_shot_df_unstack['num_shots']),0,nan_policy='omit')\n",
      "    if t > 0:\n",
      "        # t>0 implies percent_after_make is generally greater than percent_after_miss\n",
      "        # so this is the tail that (at least somewhat) supports our alternative hypothesis\n",
      "        p = p/2\n",
      "    else:\n",
      "        # t<0 implies percent_after_make is generally less than percent_after_miss\n",
      "        # so this is the tail that definitely does not support our alternative hypothesis\n",
      "        p = 1 - p/2\n",
      "    return p\n",
      "\n",
      "calculatePValueForShootingPercentageAfterMake(shots)"
     ],
     "language": "python",
     "metadata": {},
     "outputs": [
      {
       "metadata": {},
       "output_type": "pyout",
       "prompt_number": 108,
       "text": [
        "0.99998915821555967"
       ]
      }
     ],
     "prompt_number": 108
    },
    {
     "cell_type": "code",
     "collapsed": false,
     "input": [
      "pValues = []\n",
      "numOver5 = 0\n",
      "for x in range(50):\n",
      "    shotsCopy = shots.copy()\n",
      "    shotsCopy['shot_made_flag'] = np.random.randint(0,2,size=shots['shot_made_flag'].count())\n",
      "    p = calculatePValueForShootingPercentageAfterMake(shotsCopy)\n",
      "    pValues.append(p)\n",
      "    if p>0.5:\n",
      "        numOver5 = numOver5 + 1\n",
      "    print(p)\n",
      "print \"average p-value: \" + str(numpy.mean(pValues))\n",
      "print \"number of p-values over 0.5: \" + str(numOver5)\n"
     ],
     "language": "python",
     "metadata": {},
     "outputs": [
      {
       "output_type": "stream",
       "stream": "stdout",
       "text": [
        "0.789292031917\n",
        "0.155171460522"
       ]
      },
      {
       "output_type": "stream",
       "stream": "stdout",
       "text": [
        "\n",
        "0.730258075227"
       ]
      },
      {
       "output_type": "stream",
       "stream": "stdout",
       "text": [
        "\n",
        "0.494798538905"
       ]
      },
      {
       "output_type": "stream",
       "stream": "stdout",
       "text": [
        "\n",
        "0.00605788162094"
       ]
      },
      {
       "output_type": "stream",
       "stream": "stdout",
       "text": [
        "\n",
        "0.0395734256698"
       ]
      },
      {
       "output_type": "stream",
       "stream": "stdout",
       "text": [
        "\n",
        "0.336032813347"
       ]
      },
      {
       "output_type": "stream",
       "stream": "stdout",
       "text": [
        "\n",
        "0.942257250818"
       ]
      },
      {
       "output_type": "stream",
       "stream": "stdout",
       "text": [
        "\n",
        "0.0120657709417"
       ]
      },
      {
       "output_type": "stream",
       "stream": "stdout",
       "text": [
        "\n",
        "0.32791294751"
       ]
      },
      {
       "output_type": "stream",
       "stream": "stdout",
       "text": [
        "\n",
        "0.870033809156"
       ]
      },
      {
       "output_type": "stream",
       "stream": "stdout",
       "text": [
        "\n",
        "0.51794164228"
       ]
      },
      {
       "output_type": "stream",
       "stream": "stdout",
       "text": [
        "\n",
        "0.547908464759"
       ]
      },
      {
       "output_type": "stream",
       "stream": "stdout",
       "text": [
        "\n",
        "0.251954789536"
       ]
      },
      {
       "output_type": "stream",
       "stream": "stdout",
       "text": [
        "\n",
        "0.222067855829"
       ]
      },
      {
       "output_type": "stream",
       "stream": "stdout",
       "text": [
        "\n",
        "0.377805914783"
       ]
      },
      {
       "output_type": "stream",
       "stream": "stdout",
       "text": [
        "\n",
        "0.756308017828"
       ]
      },
      {
       "output_type": "stream",
       "stream": "stdout",
       "text": [
        "\n",
        "0.0166711634357"
       ]
      },
      {
       "output_type": "stream",
       "stream": "stdout",
       "text": [
        "\n",
        "0.824197673438"
       ]
      },
      {
       "output_type": "stream",
       "stream": "stdout",
       "text": [
        "\n",
        "0.572090927551"
       ]
      },
      {
       "output_type": "stream",
       "stream": "stdout",
       "text": [
        "\n",
        "0.851121717409"
       ]
      },
      {
       "output_type": "stream",
       "stream": "stdout",
       "text": [
        "\n",
        "0.776378570996"
       ]
      },
      {
       "output_type": "stream",
       "stream": "stdout",
       "text": [
        "\n",
        "0.595135081194"
       ]
      },
      {
       "output_type": "stream",
       "stream": "stdout",
       "text": [
        "\n",
        "0.515649319854"
       ]
      },
      {
       "output_type": "stream",
       "stream": "stdout",
       "text": [
        "\n",
        "0.252509853726"
       ]
      },
      {
       "output_type": "stream",
       "stream": "stdout",
       "text": [
        "\n",
        "0.541984174839"
       ]
      },
      {
       "output_type": "stream",
       "stream": "stdout",
       "text": [
        "\n",
        "0.166340513566"
       ]
      },
      {
       "output_type": "stream",
       "stream": "stdout",
       "text": [
        "\n",
        "0.138214187505"
       ]
      },
      {
       "output_type": "stream",
       "stream": "stdout",
       "text": [
        "\n",
        "0.262475960474"
       ]
      },
      {
       "output_type": "stream",
       "stream": "stdout",
       "text": [
        "\n",
        "0.498789966928"
       ]
      },
      {
       "output_type": "stream",
       "stream": "stdout",
       "text": [
        "\n",
        "0.23713089926"
       ]
      },
      {
       "output_type": "stream",
       "stream": "stdout",
       "text": [
        "\n",
        "0.173570803288"
       ]
      },
      {
       "output_type": "stream",
       "stream": "stdout",
       "text": [
        "\n",
        "0.915351154276"
       ]
      },
      {
       "output_type": "stream",
       "stream": "stdout",
       "text": [
        "\n",
        "0.859055786016"
       ]
      },
      {
       "output_type": "stream",
       "stream": "stdout",
       "text": [
        "\n",
        "0.0686070382822"
       ]
      },
      {
       "output_type": "stream",
       "stream": "stdout",
       "text": [
        "\n",
        "0.784762672448"
       ]
      },
      {
       "output_type": "stream",
       "stream": "stdout",
       "text": [
        "\n",
        "0.758519888533"
       ]
      },
      {
       "output_type": "stream",
       "stream": "stdout",
       "text": [
        "\n",
        "0.0605823556066"
       ]
      },
      {
       "output_type": "stream",
       "stream": "stdout",
       "text": [
        "\n",
        "0.0163179629645"
       ]
      },
      {
       "output_type": "stream",
       "stream": "stdout",
       "text": [
        "\n",
        "0.0848996273039"
       ]
      },
      {
       "output_type": "stream",
       "stream": "stdout",
       "text": [
        "\n",
        "0.705579360153"
       ]
      },
      {
       "output_type": "stream",
       "stream": "stdout",
       "text": [
        "\n",
        "0.0976892359774"
       ]
      },
      {
       "output_type": "stream",
       "stream": "stdout",
       "text": [
        "\n",
        "0.266202322195"
       ]
      },
      {
       "output_type": "stream",
       "stream": "stdout",
       "text": [
        "\n",
        "0.152477526531"
       ]
      },
      {
       "output_type": "stream",
       "stream": "stdout",
       "text": [
        "\n",
        "0.626628116227"
       ]
      },
      {
       "output_type": "stream",
       "stream": "stdout",
       "text": [
        "\n",
        "0.1847677578"
       ]
      },
      {
       "output_type": "stream",
       "stream": "stdout",
       "text": [
        "\n",
        "0.139817596237"
       ]
      },
      {
       "output_type": "stream",
       "stream": "stdout",
       "text": [
        "\n",
        "0.105999534029"
       ]
      },
      {
       "output_type": "stream",
       "stream": "stdout",
       "text": [
        "\n",
        "0.791068078634"
       ]
      },
      {
       "output_type": "stream",
       "stream": "stdout",
       "text": [
        "\n",
        "0.925535245988"
       ]
      },
      {
       "output_type": "stream",
       "stream": "stdout",
       "text": [
        "\n",
        "average p-value: 0.426871255266\n",
        "number of p-values over 0.5: 22\n"
       ]
      }
     ],
     "prompt_number": 109
    },
    {
     "cell_type": "markdown",
     "metadata": {},
     "source": [
      "There is also some concern that we are throwing away too much of our data.  Consider the player with espn_player_id of 25.  The splitting by game results in 3 games where the player had a miss and a make before their last shot.  However, we can look at all that player's shots."
     ]
    },
    {
     "cell_type": "code",
     "collapsed": false,
     "input": [
      "shots[shots['espn_player_id']==25].groupby(['game_date']).size()"
     ],
     "language": "python",
     "metadata": {},
     "outputs": [
      {
       "metadata": {},
       "output_type": "pyout",
       "prompt_number": 110,
       "text": [
        "game_date\n",
        "2016-10-30    2\n",
        "2016-11-08    2\n",
        "2016-11-23    4\n",
        "2016-11-29    5\n",
        "2016-12-02    1\n",
        "2016-12-05    5\n",
        "2016-12-07    1\n",
        "2016-12-22    1\n",
        "2017-01-06    1\n",
        "2017-01-14    2\n",
        "2017-02-06    3\n",
        "2017-03-13    1\n",
        "dtype: int64"
       ]
      }
     ],
     "prompt_number": 110
    },
    {
     "cell_type": "markdown",
     "metadata": {},
     "source": [
      "We see the player had shots in 12 games, but we are only looking at 3 of those games.  This is likely worth looking at later, but we will ignore this issue for now with the logic that players not taking many shots are not what we are really interested in anyway."
     ]
    },
    {
     "cell_type": "heading",
     "level": 2,
     "metadata": {},
     "source": [
      "Looking at past 2 shots"
     ]
    },
    {
     "cell_type": "markdown",
     "metadata": {},
     "source": [
      "First, we read in the data."
     ]
    },
    {
     "cell_type": "code",
     "collapsed": false,
     "input": [
      "import pandas.core.reshape.reshape as rs\n",
      "dir(rs)"
     ],
     "language": "python",
     "metadata": {},
     "outputs": [
      {
       "metadata": {},
       "output_type": "pyout",
       "prompt_number": 151,
       "text": [
        "['Appender',\n",
        " 'Categorical',\n",
        " 'DataFrame',\n",
        " 'IntIndex',\n",
        " 'MultiIndex',\n",
        " 'Series',\n",
        " 'SparseArray',\n",
        " 'SparseDataFrame',\n",
        " 'SparseSeries',\n",
        " '_Unstacker',\n",
        " '__builtins__',\n",
        " '__doc__',\n",
        " '__file__',\n",
        " '__name__',\n",
        " '__package__',\n",
        " '__warningregistry__',\n",
        " '_algos',\n",
        " '_concat',\n",
        " '_ensure_platform_int',\n",
        " '_factorize_from_iterable',\n",
        " '_get_dummies_1d',\n",
        " '_get_na_value',\n",
        " '_reshape',\n",
        " '_shared_docs',\n",
        " '_slow_pivot',\n",
        " '_stack_multi_columns',\n",
        " '_unstack_frame',\n",
        " '_unstack_multiple',\n",
        " 'algos',\n",
        " 'compat',\n",
        " 'compress_group_index',\n",
        " 'decons_obs_group_ids',\n",
        " 'get_compressed_ids',\n",
        " 'get_dummies',\n",
        " 'get_group_index',\n",
        " 'is_bool_dtype',\n",
        " 'is_list_like',\n",
        " 'itertools',\n",
        " 'lreshape',\n",
        " 'make_axis_dummies',\n",
        " 'maybe_promote',\n",
        " 'melt',\n",
        " 'needs_i8_conversion',\n",
        " 'notnull',\n",
        " 'np',\n",
        " 'pivot',\n",
        " 'pivot_simple',\n",
        " 'range',\n",
        " 're',\n",
        " 'stack',\n",
        " 'stack_multiple',\n",
        " 'unstack',\n",
        " 'wide_to_long',\n",
        " 'zip']"
       ]
      }
     ],
     "prompt_number": 151
    },
    {
     "cell_type": "code",
     "collapsed": false,
     "input": [
      "def calculatePValueForShootingPercentageBasedOnLastTwoShots(shots):\n",
      "    shots = shots.sort_values(by=['espn_player_id', 'game_date','period','minutes_remaining','seconds_remaining'],axis=0,ascending=[True,True,True,False,False])\n",
      "    shots['one_shot_ago_flag'] = np.where((shots['shot_made_flag'].shift(1) == 1) & (shots['espn_player_id'] == shots['espn_player_id'].shift(1)),1,0)\n",
      "    shots['two_shots_ago_flag'] = np.where((shots['shot_made_flag'].shift(2) == 1) & (shots['espn_player_id'] == shots['espn_player_id'].shift(2)),1,0)\n",
      "    shots_only_previous = shots[shots['espn_player_id'] == shots['espn_player_id'].shift(2)]\n",
      "    player_shot_df = shots_only_previous[['one_shot_ago_flag','two_shots_ago_flag','espn_player_id','shot_made_flag']].groupby(['espn_player_id','one_shot_ago_flag','two_shots_ago_flag']).aggregate([numpy.mean,numpy.sum,size])\n",
      "    \n",
      "    #Note: ideally we could just do one unstack here (or two consecutive calls to unstack), but that results in an empty dataframe\n",
      "    #looking into the code for unstack in pandas.core.reshape.reshape.py led to this (admittedly hacky) solution\n",
      "    player_shot_df_unstack = player_shot_df.unstack()['shot_made_flag']\n",
      "#    df = pd.DataFrame(player_shot_df.unstack())\n",
      " #   df2 = df['shot_made_flag']\n",
      "    #df2 = player_shot_df['shot_made_flag']\n",
      "    us = rs._Unstacker(player_shot_df_unstack.values,player_shot_df_unstack.index,-1,player_shot_df_unstack.columns)\n",
      "    values, value_mask = us.get_new_values()\n",
      "    player_shot_last_two_df = pd.DataFrame(data=values, index=pd.MultiIndex.from_product([[0],us.get_new_index()]), columns=us.get_new_columns())\n",
      "    player_shot_last_two_df['percent_after_miss'] = player_shot_last_two_df.loc[:]['mean'][0][0]\n",
      "    player_shot_last_two_df['percent_after_make'] = player_shot_last_two_df.loc[:]['mean'][1][1]\n",
      "    print(player_shot_last_two_df[:15])\n",
      "    \n",
      "    (t, p) = scipy.stats.ttest_1samp(player_shot_last_two_df['percent_after_make']-player_shot_last_two_df['percent_after_miss'],0,nan_policy='omit')\n",
      "    if t > 0:\n",
      "        # t>0 implies percent_after_make is generally greater than percent_after_miss\n",
      "        # so this is the tail that (at least somewhat) supports our alternative hypothesis\n",
      "        p = p/2\n",
      "    else:\n",
      "        # t<0 implies percent_after_make is generally less than percent_after_miss\n",
      "        # so this is the tail that definitely does not support our alternative hypothesis\n",
      "        p = 1 - p/2\n",
      "    return p\n",
      "\n",
      "calculatePValueForShootingPercentageBasedOnLastTwoShots(shots)\n"
     ],
     "language": "python",
     "metadata": {},
     "outputs": [
      {
       "output_type": "stream",
       "stream": "stdout",
       "text": [
        "                        mean                                  sum         \\\n",
        "two_shots_ago_flag         0                   1                0          \n",
        "one_shot_ago_flag          0         1         0         1      0      1   \n",
        "0 25.0              0.285714  0.000000  0.333333       NaN    4.0    0.0   \n",
        "  136.0             0.374269  0.438095  0.394231  0.375000   64.0   46.0   \n",
        "  165.0             0.408397  0.368687  0.461929  0.416000  107.0   73.0   \n",
        "  272.0             0.402778  0.362637  0.358696  0.431034   58.0   33.0   \n",
        "  558.0             0.200000  0.500000  0.500000  0.333333    1.0    1.0   \n",
        "  609.0             0.482759  0.420690  0.423611  0.407767   84.0   61.0   \n",
        "  662.0             0.363636  0.266667  0.500000  0.285714    8.0    4.0   \n",
        "  841.0             0.462687  0.320755  0.423077  0.483871   31.0   17.0   \n",
        "  984.0             0.700000  0.627451  0.725490  0.659574   14.0   32.0   \n",
        "  996.0             0.560345  0.474453  0.525547  0.438596   65.0   65.0   \n",
        "  1006.0            0.505882  0.364706  0.488095  0.446429   43.0   31.0   \n",
        "  1007.0            0.423729  0.409091  0.428571  0.470588   75.0   54.0   \n",
        "  1015.0            0.390728  0.445455  0.459459  0.505051   59.0   49.0   \n",
        "  1017.0            0.462687  0.467290  0.418605  0.445055  124.0  100.0   \n",
        "  1135.0            0.444444  0.666667  0.000000  0.250000    4.0    2.0   \n",
        "\n",
        "                                 size                      percent_after_miss  \\\n",
        "two_shots_ago_flag     1            0             1                             \n",
        "one_shot_ago_flag      0     1      0      1      0      1                      \n",
        "0 25.0               2.0   NaN   14.0    6.0    6.0    NaN           0.285714   \n",
        "  136.0             41.0  27.0  171.0  105.0  104.0   72.0           0.374269   \n",
        "  165.0             91.0  52.0  262.0  198.0  197.0  125.0           0.408397   \n",
        "  272.0             33.0  25.0  144.0   91.0   92.0   58.0           0.402778   \n",
        "  558.0              1.0   1.0    5.0    2.0    2.0    3.0           0.200000   \n",
        "  609.0             61.0  42.0  174.0  145.0  144.0  103.0           0.482759   \n",
        "  662.0              8.0   2.0   22.0   15.0   16.0    7.0           0.363636   \n",
        "  841.0             22.0  15.0   67.0   53.0   52.0   31.0           0.462687   \n",
        "  984.0             37.0  62.0   20.0   51.0   51.0   94.0           0.700000   \n",
        "  996.0             72.0  50.0  116.0  137.0  137.0  114.0           0.560345   \n",
        "  1006.0            41.0  25.0   85.0   85.0   84.0   56.0           0.505882   \n",
        "  1007.0            57.0  48.0  177.0  132.0  133.0  102.0           0.423729   \n",
        "  1015.0            51.0  50.0  151.0  110.0  111.0   99.0           0.390728   \n",
        "  1017.0            90.0  81.0  268.0  214.0  215.0  182.0           0.462687   \n",
        "  1135.0             0.0   1.0    9.0    3.0    4.0    4.0           0.444444   \n",
        "\n",
        "                   percent_after_make  \n",
        "two_shots_ago_flag                     \n",
        "one_shot_ago_flag                      \n",
        "0 25.0                            NaN  \n",
        "  136.0                      0.375000  \n",
        "  165.0                      0.416000  \n",
        "  272.0                      0.431034  \n",
        "  558.0                      0.333333  \n",
        "  609.0                      0.407767  \n",
        "  662.0                      0.285714  \n",
        "  841.0                      0.483871  \n",
        "  984.0                      0.659574  \n",
        "  996.0                      0.438596  \n",
        "  1006.0                     0.446429  \n",
        "  1007.0                     0.470588  \n",
        "  1015.0                     0.505051  \n",
        "  1017.0                     0.445055  \n",
        "  1135.0                     0.250000  \n"
       ]
      },
      {
       "metadata": {},
       "output_type": "pyout",
       "prompt_number": 196,
       "text": [
        "0.99999988050629995"
       ]
      }
     ],
     "prompt_number": 196
    },
    {
     "cell_type": "code",
     "collapsed": false,
     "input": [],
     "language": "python",
     "metadata": {},
     "outputs": [],
     "prompt_number": 111
    }
   ],
   "metadata": {}
  }
 ]
}