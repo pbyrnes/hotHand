{
 "metadata": {
  "name": "",
  "signature": "sha256:08856ece1380627e53d8caa737a7ff96be5680969eec1f23a273968120a040e5"
 },
 "nbformat": 3,
 "nbformat_minor": 0,
 "worksheets": [
  {
   "cells": [
    {
     "cell_type": "heading",
     "level": 1,
     "metadata": {},
     "source": [
      "Investigation of \"Hot-hand effect\""
     ]
    },
    {
     "cell_type": "markdown",
     "metadata": {},
     "source": [
      "There is a widely held belief in basketball that some players have periods of time where they are much better shooters than normal.  This can be called having a \"hot hand\".  An example would be if a player hit 3 shots in a row, then many fans would expect that player to be more likely (than their usual percentage) to hit their next shot.\n",
      "\n",
      "Whether this is a real effect or some kind of cognitive bias has been previously studied.  For instance in 1984(83?, 85? FIX THIS), [RESEARCHERS] looked at actual shooting results of the Philadelphia 76ers, free throws of the Boston Celtics, and controlled-experiment shots of college students.  Their data did not support the existence of a hot-hand effect.  This question has been revisited, for instance in [PAPERS FROM 2005?? or so??] which also failed to find evidence to support the existence of the hot-hand effect.  Interestingly, in 2015 [RESEARCHERS] noted that the sampling method used in previous studies was flawed.  The flaw is subtle, but leads to some evidence for the hot-hand effect.\n",
      "\n",
      "My intent is to investigate recent shooting results of NBA players with the goals of:\n",
      "<ul>\n",
      "<li>Looking for evidence to support (or reject) the existence of the hot-hand effect.\n",
      "<li>Understand the subtleties of the sampling flaw found by [RESEARCHERS].\n",
      "</ul>"
     ]
    },
    {
     "cell_type": "heading",
     "level": 2,
     "metadata": {},
     "source": [
      "Getting the data"
     ]
    },
    {
     "cell_type": "markdown",
     "metadata": {},
     "source": [
      "The reason I chose to study NBA data was that I found a resource that makes shooting data easy to download for the NBA: <a href = \"www.nbasavant.com\">www.nbasavant.com</a>.  I have downloaded all shooting data for 2016-2017 and placed it in the files nba_savant_<month>_<year>.csv in the data/nba_savant folder.  [Note: you can ostensibly download a .csv file of the shots data for the entire year, but the files seem to be limited to 50,000 lines which is not enough.  That's why I split the data by month when downloading.]\n",
      "\n",
      "There is some concern about the complete validity of the data.  My biggest concern is the data for April 2017 seems to be incomplete.  There are not near enough total shots for the month and spot checking some players shows many fewer shots than expected for that player.  However, working with this data will at least provide a framework for studying similar datasets.\n",
      "\n",
      "Before reading in the data, we will load pandas, a python library used for data analysis."
     ]
    },
    {
     "cell_type": "code",
     "collapsed": false,
     "input": [
      "import pandas as pd"
     ],
     "language": "python",
     "metadata": {},
     "outputs": [],
     "prompt_number": 1
    },
    {
     "cell_type": "markdown",
     "metadata": {},
     "source": [
      "Now, we can read in the data from the downloaded .csv files and store the data as a DataFrame (a pandas data structure)."
     ]
    },
    {
     "cell_type": "code",
     "collapsed": false,
     "input": [
      "import glob\n",
      "files_to_read = glob.glob('../data/nba_savant/*.csv')\n",
      "\n",
      "shots = pd.concat((pd.read_csv(f) for f in files_to_read))"
     ],
     "language": "python",
     "metadata": {},
     "outputs": [],
     "prompt_number": 2
    },
    {
     "cell_type": "markdown",
     "metadata": {},
     "source": [
      "We can look at the first few rows of data to get a sense of what data we have (and if the read did what we expected it to do):"
     ]
    },
    {
     "cell_type": "code",
     "collapsed": false,
     "input": [
      "shots.head()"
     ],
     "language": "python",
     "metadata": {},
     "outputs": [
      {
       "html": [
        "<div style=\"max-width:1500px;overflow:auto;\">\n",
        "<style>\n",
        "    .dataframe thead tr:only-child th {\n",
        "        text-align: right;\n",
        "    }\n",
        "\n",
        "    .dataframe thead th {\n",
        "        text-align: left;\n",
        "    }\n",
        "\n",
        "    .dataframe tbody tr th {\n",
        "        vertical-align: top;\n",
        "    }\n",
        "</style>\n",
        "<table border=\"1\" class=\"dataframe\">\n",
        "  <thead>\n",
        "    <tr style=\"text-align: right;\">\n",
        "      <th></th>\n",
        "      <th>name</th>\n",
        "      <th>team_name</th>\n",
        "      <th>game_date</th>\n",
        "      <th>season</th>\n",
        "      <th>espn_player_id</th>\n",
        "      <th>team_id</th>\n",
        "      <th>espn_game_id</th>\n",
        "      <th>period</th>\n",
        "      <th>minutes_remaining</th>\n",
        "      <th>seconds_remaining</th>\n",
        "      <th>...</th>\n",
        "      <th>shot_type</th>\n",
        "      <th>shot_distance</th>\n",
        "      <th>opponent</th>\n",
        "      <th>x</th>\n",
        "      <th>y</th>\n",
        "      <th>dribbles</th>\n",
        "      <th>touch_time</th>\n",
        "      <th>defender_name</th>\n",
        "      <th>defender_distance</th>\n",
        "      <th>shot_clock</th>\n",
        "    </tr>\n",
        "  </thead>\n",
        "  <tbody>\n",
        "    <tr>\n",
        "      <th>0</th>\n",
        "      <td>Andre Drummond</td>\n",
        "      <td>Detroit Pistons</td>\n",
        "      <td>2017-01-01</td>\n",
        "      <td>2016</td>\n",
        "      <td>6585.0</td>\n",
        "      <td>1610612765</td>\n",
        "      <td>400899381</td>\n",
        "      <td>4</td>\n",
        "      <td>5</td>\n",
        "      <td>57</td>\n",
        "      <td>...</td>\n",
        "      <td>2PT Field Goal</td>\n",
        "      <td>0</td>\n",
        "      <td>Miami Heat</td>\n",
        "      <td>0</td>\n",
        "      <td>1</td>\n",
        "      <td>0</td>\n",
        "      <td>0.0</td>\n",
        "      <td>NaN</td>\n",
        "      <td>0.0</td>\n",
        "      <td>0.0</td>\n",
        "    </tr>\n",
        "    <tr>\n",
        "      <th>1</th>\n",
        "      <td>Nerlens Noel</td>\n",
        "      <td>Philadelphia 76ers</td>\n",
        "      <td>2017-01-30</td>\n",
        "      <td>2016</td>\n",
        "      <td>2991280.0</td>\n",
        "      <td>1610612755</td>\n",
        "      <td>0</td>\n",
        "      <td>3</td>\n",
        "      <td>7</td>\n",
        "      <td>18</td>\n",
        "      <td>...</td>\n",
        "      <td>2PT Field Goal</td>\n",
        "      <td>0</td>\n",
        "      <td>Sacramento Kings</td>\n",
        "      <td>0</td>\n",
        "      <td>1</td>\n",
        "      <td>0</td>\n",
        "      <td>0.0</td>\n",
        "      <td>NaN</td>\n",
        "      <td>0.0</td>\n",
        "      <td>0.0</td>\n",
        "    </tr>\n",
        "    <tr>\n",
        "      <th>2</th>\n",
        "      <td>Jon Leuer</td>\n",
        "      <td>Detroit Pistons</td>\n",
        "      <td>2017-01-01</td>\n",
        "      <td>2016</td>\n",
        "      <td>6452.0</td>\n",
        "      <td>1610612765</td>\n",
        "      <td>400899381</td>\n",
        "      <td>1</td>\n",
        "      <td>3</td>\n",
        "      <td>29</td>\n",
        "      <td>...</td>\n",
        "      <td>2PT Field Goal</td>\n",
        "      <td>0</td>\n",
        "      <td>Miami Heat</td>\n",
        "      <td>0</td>\n",
        "      <td>1</td>\n",
        "      <td>0</td>\n",
        "      <td>0.0</td>\n",
        "      <td>NaN</td>\n",
        "      <td>0.0</td>\n",
        "      <td>0.0</td>\n",
        "    </tr>\n",
        "    <tr>\n",
        "      <th>3</th>\n",
        "      <td>Dwight Howard</td>\n",
        "      <td>Atlanta Hawks</td>\n",
        "      <td>2017-01-29</td>\n",
        "      <td>2016</td>\n",
        "      <td>2384.0</td>\n",
        "      <td>1610612737</td>\n",
        "      <td>400900132</td>\n",
        "      <td>4</td>\n",
        "      <td>0</td>\n",
        "      <td>45</td>\n",
        "      <td>...</td>\n",
        "      <td>2PT Field Goal</td>\n",
        "      <td>0</td>\n",
        "      <td>New York Knicks</td>\n",
        "      <td>0</td>\n",
        "      <td>1</td>\n",
        "      <td>0</td>\n",
        "      <td>0.0</td>\n",
        "      <td>NaN</td>\n",
        "      <td>0.0</td>\n",
        "      <td>0.0</td>\n",
        "    </tr>\n",
        "    <tr>\n",
        "      <th>4</th>\n",
        "      <td>Andre Drummond</td>\n",
        "      <td>Detroit Pistons</td>\n",
        "      <td>2017-01-01</td>\n",
        "      <td>2016</td>\n",
        "      <td>6585.0</td>\n",
        "      <td>1610612765</td>\n",
        "      <td>400899381</td>\n",
        "      <td>1</td>\n",
        "      <td>7</td>\n",
        "      <td>57</td>\n",
        "      <td>...</td>\n",
        "      <td>2PT Field Goal</td>\n",
        "      <td>0</td>\n",
        "      <td>Miami Heat</td>\n",
        "      <td>0</td>\n",
        "      <td>1</td>\n",
        "      <td>0</td>\n",
        "      <td>0.0</td>\n",
        "      <td>NaN</td>\n",
        "      <td>0.0</td>\n",
        "      <td>0.0</td>\n",
        "    </tr>\n",
        "  </tbody>\n",
        "</table>\n",
        "<p>5 rows \u00d7 22 columns</p>\n",
        "</div>"
       ],
       "metadata": {},
       "output_type": "pyout",
       "prompt_number": 3,
       "text": [
        "             name           team_name   game_date  season  espn_player_id  \\\n",
        "0  Andre Drummond     Detroit Pistons  2017-01-01    2016          6585.0   \n",
        "1    Nerlens Noel  Philadelphia 76ers  2017-01-30    2016       2991280.0   \n",
        "2       Jon Leuer     Detroit Pistons  2017-01-01    2016          6452.0   \n",
        "3   Dwight Howard       Atlanta Hawks  2017-01-29    2016          2384.0   \n",
        "4  Andre Drummond     Detroit Pistons  2017-01-01    2016          6585.0   \n",
        "\n",
        "      team_id  espn_game_id  period  minutes_remaining  seconds_remaining  \\\n",
        "0  1610612765     400899381       4                  5                 57   \n",
        "1  1610612755             0       3                  7                 18   \n",
        "2  1610612765     400899381       1                  3                 29   \n",
        "3  1610612737     400900132       4                  0                 45   \n",
        "4  1610612765     400899381       1                  7                 57   \n",
        "\n",
        "      ...           shot_type shot_distance          opponent  x  y  dribbles  \\\n",
        "0     ...      2PT Field Goal             0        Miami Heat  0  1         0   \n",
        "1     ...      2PT Field Goal             0  Sacramento Kings  0  1         0   \n",
        "2     ...      2PT Field Goal             0        Miami Heat  0  1         0   \n",
        "3     ...      2PT Field Goal             0   New York Knicks  0  1         0   \n",
        "4     ...      2PT Field Goal             0        Miami Heat  0  1         0   \n",
        "\n",
        "   touch_time  defender_name  defender_distance  shot_clock  \n",
        "0         0.0            NaN                0.0         0.0  \n",
        "1         0.0            NaN                0.0         0.0  \n",
        "2         0.0            NaN                0.0         0.0  \n",
        "3         0.0            NaN                0.0         0.0  \n",
        "4         0.0            NaN                0.0         0.0  \n",
        "\n",
        "[5 rows x 22 columns]"
       ]
      }
     ],
     "prompt_number": 3
    },
    {
     "cell_type": "markdown",
     "metadata": {},
     "source": [
      "Each row of the DataFrame consists of one shot (the observation) and 22 variables.  Those variables are the columns.  Note that the ... indicates we are not seeing all of the columns.  Pandas has a setting that gives the maximum number of columns to print.  It appears that value defaults to 20.  We can increase this value and then look at the first few rows again (using new max of 60, but 22 would suffice)."
     ]
    },
    {
     "cell_type": "code",
     "collapsed": false,
     "input": [
      "pd.set_option('display.max_columns', 60)\n",
      "shots.head()"
     ],
     "language": "python",
     "metadata": {},
     "outputs": [
      {
       "html": [
        "<div style=\"max-width:1500px;overflow:auto;\">\n",
        "<style>\n",
        "    .dataframe thead tr:only-child th {\n",
        "        text-align: right;\n",
        "    }\n",
        "\n",
        "    .dataframe thead th {\n",
        "        text-align: left;\n",
        "    }\n",
        "\n",
        "    .dataframe tbody tr th {\n",
        "        vertical-align: top;\n",
        "    }\n",
        "</style>\n",
        "<table border=\"1\" class=\"dataframe\">\n",
        "  <thead>\n",
        "    <tr style=\"text-align: right;\">\n",
        "      <th></th>\n",
        "      <th>name</th>\n",
        "      <th>team_name</th>\n",
        "      <th>game_date</th>\n",
        "      <th>season</th>\n",
        "      <th>espn_player_id</th>\n",
        "      <th>team_id</th>\n",
        "      <th>espn_game_id</th>\n",
        "      <th>period</th>\n",
        "      <th>minutes_remaining</th>\n",
        "      <th>seconds_remaining</th>\n",
        "      <th>shot_made_flag</th>\n",
        "      <th>action_type</th>\n",
        "      <th>shot_type</th>\n",
        "      <th>shot_distance</th>\n",
        "      <th>opponent</th>\n",
        "      <th>x</th>\n",
        "      <th>y</th>\n",
        "      <th>dribbles</th>\n",
        "      <th>touch_time</th>\n",
        "      <th>defender_name</th>\n",
        "      <th>defender_distance</th>\n",
        "      <th>shot_clock</th>\n",
        "    </tr>\n",
        "  </thead>\n",
        "  <tbody>\n",
        "    <tr>\n",
        "      <th>0</th>\n",
        "      <td>Andre Drummond</td>\n",
        "      <td>Detroit Pistons</td>\n",
        "      <td>2017-01-01</td>\n",
        "      <td>2016</td>\n",
        "      <td>6585.0</td>\n",
        "      <td>1610612765</td>\n",
        "      <td>400899381</td>\n",
        "      <td>4</td>\n",
        "      <td>5</td>\n",
        "      <td>57</td>\n",
        "      <td>1</td>\n",
        "      <td>Alley Oop Dunk Shot</td>\n",
        "      <td>2PT Field Goal</td>\n",
        "      <td>0</td>\n",
        "      <td>Miami Heat</td>\n",
        "      <td>0</td>\n",
        "      <td>1</td>\n",
        "      <td>0</td>\n",
        "      <td>0.0</td>\n",
        "      <td>NaN</td>\n",
        "      <td>0.0</td>\n",
        "      <td>0.0</td>\n",
        "    </tr>\n",
        "    <tr>\n",
        "      <th>1</th>\n",
        "      <td>Nerlens Noel</td>\n",
        "      <td>Philadelphia 76ers</td>\n",
        "      <td>2017-01-30</td>\n",
        "      <td>2016</td>\n",
        "      <td>2991280.0</td>\n",
        "      <td>1610612755</td>\n",
        "      <td>0</td>\n",
        "      <td>3</td>\n",
        "      <td>7</td>\n",
        "      <td>18</td>\n",
        "      <td>1</td>\n",
        "      <td>Alley Oop Dunk Shot</td>\n",
        "      <td>2PT Field Goal</td>\n",
        "      <td>0</td>\n",
        "      <td>Sacramento Kings</td>\n",
        "      <td>0</td>\n",
        "      <td>1</td>\n",
        "      <td>0</td>\n",
        "      <td>0.0</td>\n",
        "      <td>NaN</td>\n",
        "      <td>0.0</td>\n",
        "      <td>0.0</td>\n",
        "    </tr>\n",
        "    <tr>\n",
        "      <th>2</th>\n",
        "      <td>Jon Leuer</td>\n",
        "      <td>Detroit Pistons</td>\n",
        "      <td>2017-01-01</td>\n",
        "      <td>2016</td>\n",
        "      <td>6452.0</td>\n",
        "      <td>1610612765</td>\n",
        "      <td>400899381</td>\n",
        "      <td>1</td>\n",
        "      <td>3</td>\n",
        "      <td>29</td>\n",
        "      <td>0</td>\n",
        "      <td>Alley Oop Dunk Shot</td>\n",
        "      <td>2PT Field Goal</td>\n",
        "      <td>0</td>\n",
        "      <td>Miami Heat</td>\n",
        "      <td>0</td>\n",
        "      <td>1</td>\n",
        "      <td>0</td>\n",
        "      <td>0.0</td>\n",
        "      <td>NaN</td>\n",
        "      <td>0.0</td>\n",
        "      <td>0.0</td>\n",
        "    </tr>\n",
        "    <tr>\n",
        "      <th>3</th>\n",
        "      <td>Dwight Howard</td>\n",
        "      <td>Atlanta Hawks</td>\n",
        "      <td>2017-01-29</td>\n",
        "      <td>2016</td>\n",
        "      <td>2384.0</td>\n",
        "      <td>1610612737</td>\n",
        "      <td>400900132</td>\n",
        "      <td>4</td>\n",
        "      <td>0</td>\n",
        "      <td>45</td>\n",
        "      <td>1</td>\n",
        "      <td>Alley Oop Dunk Shot</td>\n",
        "      <td>2PT Field Goal</td>\n",
        "      <td>0</td>\n",
        "      <td>New York Knicks</td>\n",
        "      <td>0</td>\n",
        "      <td>1</td>\n",
        "      <td>0</td>\n",
        "      <td>0.0</td>\n",
        "      <td>NaN</td>\n",
        "      <td>0.0</td>\n",
        "      <td>0.0</td>\n",
        "    </tr>\n",
        "    <tr>\n",
        "      <th>4</th>\n",
        "      <td>Andre Drummond</td>\n",
        "      <td>Detroit Pistons</td>\n",
        "      <td>2017-01-01</td>\n",
        "      <td>2016</td>\n",
        "      <td>6585.0</td>\n",
        "      <td>1610612765</td>\n",
        "      <td>400899381</td>\n",
        "      <td>1</td>\n",
        "      <td>7</td>\n",
        "      <td>57</td>\n",
        "      <td>1</td>\n",
        "      <td>Alley Oop Dunk Shot</td>\n",
        "      <td>2PT Field Goal</td>\n",
        "      <td>0</td>\n",
        "      <td>Miami Heat</td>\n",
        "      <td>0</td>\n",
        "      <td>1</td>\n",
        "      <td>0</td>\n",
        "      <td>0.0</td>\n",
        "      <td>NaN</td>\n",
        "      <td>0.0</td>\n",
        "      <td>0.0</td>\n",
        "    </tr>\n",
        "  </tbody>\n",
        "</table>\n",
        "</div>"
       ],
       "metadata": {},
       "output_type": "pyout",
       "prompt_number": 4,
       "text": [
        "             name           team_name   game_date  season  espn_player_id  \\\n",
        "0  Andre Drummond     Detroit Pistons  2017-01-01    2016          6585.0   \n",
        "1    Nerlens Noel  Philadelphia 76ers  2017-01-30    2016       2991280.0   \n",
        "2       Jon Leuer     Detroit Pistons  2017-01-01    2016          6452.0   \n",
        "3   Dwight Howard       Atlanta Hawks  2017-01-29    2016          2384.0   \n",
        "4  Andre Drummond     Detroit Pistons  2017-01-01    2016          6585.0   \n",
        "\n",
        "      team_id  espn_game_id  period  minutes_remaining  seconds_remaining  \\\n",
        "0  1610612765     400899381       4                  5                 57   \n",
        "1  1610612755             0       3                  7                 18   \n",
        "2  1610612765     400899381       1                  3                 29   \n",
        "3  1610612737     400900132       4                  0                 45   \n",
        "4  1610612765     400899381       1                  7                 57   \n",
        "\n",
        "   shot_made_flag          action_type       shot_type  shot_distance  \\\n",
        "0               1  Alley Oop Dunk Shot  2PT Field Goal              0   \n",
        "1               1  Alley Oop Dunk Shot  2PT Field Goal              0   \n",
        "2               0  Alley Oop Dunk Shot  2PT Field Goal              0   \n",
        "3               1  Alley Oop Dunk Shot  2PT Field Goal              0   \n",
        "4               1  Alley Oop Dunk Shot  2PT Field Goal              0   \n",
        "\n",
        "           opponent  x  y  dribbles  touch_time  defender_name  \\\n",
        "0        Miami Heat  0  1         0         0.0            NaN   \n",
        "1  Sacramento Kings  0  1         0         0.0            NaN   \n",
        "2        Miami Heat  0  1         0         0.0            NaN   \n",
        "3   New York Knicks  0  1         0         0.0            NaN   \n",
        "4        Miami Heat  0  1         0         0.0            NaN   \n",
        "\n",
        "   defender_distance  shot_clock  \n",
        "0                0.0         0.0  \n",
        "1                0.0         0.0  \n",
        "2                0.0         0.0  \n",
        "3                0.0         0.0  \n",
        "4                0.0         0.0  "
       ]
      }
     ],
     "prompt_number": 4
    },
    {
     "cell_type": "heading",
     "level": 2,
     "metadata": {},
     "source": [
      "Strategy"
     ]
    },
    {
     "cell_type": "markdown",
     "metadata": {},
     "source": [
      "For an initial investigation, I plan on making the following assumptions:\n",
      "<ul>\n",
      "<li>Each player's shots are to be investigated as one sequence throughout the entire year.  A different, and perhaps more useful, choice would be to split up each players shots by game.  We will look at the data split by game later.\n",
      "<li>To consider the existence of the hot-hand effect we will only look at whether the previous shot was a make or miss.  The literature standard seems to be looking at shooting percentages after streaks of 1, 2, or 3 consecutive makes or misses.  We will handle more complicated scenarios later.\n",
      "<li>The only variables we will consider for analyzing each shot are those that determine:\n",
      "<ul>\n",
      "<li>Which player took the shot (name, espn_player_id)\n",
      "<li>When the shot was taken (game_date, period, minutes_remaining, seconds_remaining) [Note: these are used to determine the order the shots occurred in.]\n",
      "<li>Whether the shot was a make or miss (shot_made_flag)\n",
      "</ul>\n",
      "<li>We will not, at least initially, be considering other variables such as those associated to shot difficulty, opponents, or effects of other players shooting on a given night.\n",
      "</ul>"
     ]
    },
    {
     "cell_type": "heading",
     "level": 2,
     "metadata": {},
     "source": [
      "Rearranging the data"
     ]
    },
    {
     "cell_type": "markdown",
     "metadata": {},
     "source": [
      "Let's start by removing columns we are not interested in.  Actually, we are only keeping the columns we are interested in."
     ]
    },
    {
     "cell_type": "code",
     "collapsed": false,
     "input": [
      "shots = shots[:][['name', 'game_date', 'espn_player_id', 'period', 'minutes_remaining', 'seconds_remaining', 'shot_made_flag']]\n",
      "shots.head()"
     ],
     "language": "python",
     "metadata": {},
     "outputs": [
      {
       "html": [
        "<div style=\"max-width:1500px;overflow:auto;\">\n",
        "<style>\n",
        "    .dataframe thead tr:only-child th {\n",
        "        text-align: right;\n",
        "    }\n",
        "\n",
        "    .dataframe thead th {\n",
        "        text-align: left;\n",
        "    }\n",
        "\n",
        "    .dataframe tbody tr th {\n",
        "        vertical-align: top;\n",
        "    }\n",
        "</style>\n",
        "<table border=\"1\" class=\"dataframe\">\n",
        "  <thead>\n",
        "    <tr style=\"text-align: right;\">\n",
        "      <th></th>\n",
        "      <th>name</th>\n",
        "      <th>game_date</th>\n",
        "      <th>espn_player_id</th>\n",
        "      <th>period</th>\n",
        "      <th>minutes_remaining</th>\n",
        "      <th>seconds_remaining</th>\n",
        "      <th>shot_made_flag</th>\n",
        "    </tr>\n",
        "  </thead>\n",
        "  <tbody>\n",
        "    <tr>\n",
        "      <th>0</th>\n",
        "      <td>Andre Drummond</td>\n",
        "      <td>2017-01-01</td>\n",
        "      <td>6585.0</td>\n",
        "      <td>4</td>\n",
        "      <td>5</td>\n",
        "      <td>57</td>\n",
        "      <td>1</td>\n",
        "    </tr>\n",
        "    <tr>\n",
        "      <th>1</th>\n",
        "      <td>Nerlens Noel</td>\n",
        "      <td>2017-01-30</td>\n",
        "      <td>2991280.0</td>\n",
        "      <td>3</td>\n",
        "      <td>7</td>\n",
        "      <td>18</td>\n",
        "      <td>1</td>\n",
        "    </tr>\n",
        "    <tr>\n",
        "      <th>2</th>\n",
        "      <td>Jon Leuer</td>\n",
        "      <td>2017-01-01</td>\n",
        "      <td>6452.0</td>\n",
        "      <td>1</td>\n",
        "      <td>3</td>\n",
        "      <td>29</td>\n",
        "      <td>0</td>\n",
        "    </tr>\n",
        "    <tr>\n",
        "      <th>3</th>\n",
        "      <td>Dwight Howard</td>\n",
        "      <td>2017-01-29</td>\n",
        "      <td>2384.0</td>\n",
        "      <td>4</td>\n",
        "      <td>0</td>\n",
        "      <td>45</td>\n",
        "      <td>1</td>\n",
        "    </tr>\n",
        "    <tr>\n",
        "      <th>4</th>\n",
        "      <td>Andre Drummond</td>\n",
        "      <td>2017-01-01</td>\n",
        "      <td>6585.0</td>\n",
        "      <td>1</td>\n",
        "      <td>7</td>\n",
        "      <td>57</td>\n",
        "      <td>1</td>\n",
        "    </tr>\n",
        "  </tbody>\n",
        "</table>\n",
        "</div>"
       ],
       "metadata": {},
       "output_type": "pyout",
       "prompt_number": 5,
       "text": [
        "             name   game_date  espn_player_id  period  minutes_remaining  \\\n",
        "0  Andre Drummond  2017-01-01          6585.0       4                  5   \n",
        "1    Nerlens Noel  2017-01-30       2991280.0       3                  7   \n",
        "2       Jon Leuer  2017-01-01          6452.0       1                  3   \n",
        "3   Dwight Howard  2017-01-29          2384.0       4                  0   \n",
        "4  Andre Drummond  2017-01-01          6585.0       1                  7   \n",
        "\n",
        "   seconds_remaining  shot_made_flag  \n",
        "0                 57               1  \n",
        "1                 18               1  \n",
        "2                 29               0  \n",
        "3                 45               1  \n",
        "4                 57               1  "
       ]
      }
     ],
     "prompt_number": 5
    },
    {
     "cell_type": "markdown",
     "metadata": {},
     "source": [
      "Now we can sort the dataframe by player and date/time.  That will help us to easily find the previous shot for each player."
     ]
    },
    {
     "cell_type": "code",
     "collapsed": false,
     "input": [
      "shots = shots.sort_values(by=['espn_player_id', 'game_date','period','minutes_remaining','seconds_remaining'],axis=0,ascending=[True,True,True,False,False])\n",
      "shots.head()"
     ],
     "language": "python",
     "metadata": {},
     "outputs": [
      {
       "html": [
        "<div style=\"max-width:1500px;overflow:auto;\">\n",
        "<style>\n",
        "    .dataframe thead tr:only-child th {\n",
        "        text-align: right;\n",
        "    }\n",
        "\n",
        "    .dataframe thead th {\n",
        "        text-align: left;\n",
        "    }\n",
        "\n",
        "    .dataframe tbody tr th {\n",
        "        vertical-align: top;\n",
        "    }\n",
        "</style>\n",
        "<table border=\"1\" class=\"dataframe\">\n",
        "  <thead>\n",
        "    <tr style=\"text-align: right;\">\n",
        "      <th></th>\n",
        "      <th>name</th>\n",
        "      <th>game_date</th>\n",
        "      <th>espn_player_id</th>\n",
        "      <th>period</th>\n",
        "      <th>minutes_remaining</th>\n",
        "      <th>seconds_remaining</th>\n",
        "      <th>shot_made_flag</th>\n",
        "    </tr>\n",
        "  </thead>\n",
        "  <tbody>\n",
        "    <tr>\n",
        "      <th>4544</th>\n",
        "      <td>Metta World Peace</td>\n",
        "      <td>2016-10-30</td>\n",
        "      <td>25.0</td>\n",
        "      <td>1</td>\n",
        "      <td>2</td>\n",
        "      <td>38</td>\n",
        "      <td>0</td>\n",
        "    </tr>\n",
        "    <tr>\n",
        "      <th>189</th>\n",
        "      <td>Metta World Peace</td>\n",
        "      <td>2016-10-30</td>\n",
        "      <td>25.0</td>\n",
        "      <td>1</td>\n",
        "      <td>1</td>\n",
        "      <td>6</td>\n",
        "      <td>0</td>\n",
        "    </tr>\n",
        "    <tr>\n",
        "      <th>15320</th>\n",
        "      <td>Metta World Peace</td>\n",
        "      <td>2016-11-08</td>\n",
        "      <td>25.0</td>\n",
        "      <td>4</td>\n",
        "      <td>6</td>\n",
        "      <td>24</td>\n",
        "      <td>0</td>\n",
        "    </tr>\n",
        "    <tr>\n",
        "      <th>28798</th>\n",
        "      <td>Metta World Peace</td>\n",
        "      <td>2016-11-08</td>\n",
        "      <td>25.0</td>\n",
        "      <td>4</td>\n",
        "      <td>5</td>\n",
        "      <td>39</td>\n",
        "      <td>0</td>\n",
        "    </tr>\n",
        "    <tr>\n",
        "      <th>33601</th>\n",
        "      <td>Metta World Peace</td>\n",
        "      <td>2016-11-23</td>\n",
        "      <td>25.0</td>\n",
        "      <td>1</td>\n",
        "      <td>7</td>\n",
        "      <td>39</td>\n",
        "      <td>1</td>\n",
        "    </tr>\n",
        "  </tbody>\n",
        "</table>\n",
        "</div>"
       ],
       "metadata": {},
       "output_type": "pyout",
       "prompt_number": 6,
       "text": [
        "                    name   game_date  espn_player_id  period  \\\n",
        "4544   Metta World Peace  2016-10-30            25.0       1   \n",
        "189    Metta World Peace  2016-10-30            25.0       1   \n",
        "15320  Metta World Peace  2016-11-08            25.0       4   \n",
        "28798  Metta World Peace  2016-11-08            25.0       4   \n",
        "33601  Metta World Peace  2016-11-23            25.0       1   \n",
        "\n",
        "       minutes_remaining  seconds_remaining  shot_made_flag  \n",
        "4544                   2                 38               0  \n",
        "189                    1                  6               0  \n",
        "15320                  6                 24               0  \n",
        "28798                  5                 39               0  \n",
        "33601                  7                 39               1  "
       ]
      }
     ],
     "prompt_number": 6
    },
    {
     "cell_type": "markdown",
     "metadata": {},
     "source": [
      "Now we add a boolean variable to indicate if the previous shot was a make or miss."
     ]
    },
    {
     "cell_type": "code",
     "collapsed": false,
     "input": [
      "shots['previous_shot_made_flag'] = np.where((shots['shot_made_flag'].shift(1) == 1) & (shots['espn_player_id'] == shots['espn_player_id'].shift(1)),1,0)\n",
      "shots_only_previous = shots[shots['espn_player_id'] == shots['espn_player_id'].shift(1)]"
     ],
     "language": "python",
     "metadata": {},
     "outputs": [],
     "prompt_number": 7
    },
    {
     "cell_type": "markdown",
     "metadata": {},
     "source": [
      "We can now calculate the shooting percentage for each player both after a make and after a miss."
     ]
    },
    {
     "cell_type": "code",
     "collapsed": false,
     "input": [
      "player_shot_df = shots_only_previous[['previous_shot_made_flag','espn_player_id','shot_made_flag']].groupby(['espn_player_id','previous_shot_made_flag']).aggregate([numpy.mean,numpy.sum, size])\n",
      "player_shot_df.head()"
     ],
     "language": "python",
     "metadata": {},
     "outputs": [
      {
       "html": [
        "<div style=\"max-width:1500px;overflow:auto;\">\n",
        "<style>\n",
        "    .dataframe thead tr:only-child th {\n",
        "        text-align: right;\n",
        "    }\n",
        "\n",
        "    .dataframe thead th {\n",
        "        text-align: left;\n",
        "    }\n",
        "\n",
        "    .dataframe tbody tr th {\n",
        "        vertical-align: top;\n",
        "    }\n",
        "</style>\n",
        "<table border=\"1\" class=\"dataframe\">\n",
        "  <thead>\n",
        "    <tr>\n",
        "      <th></th>\n",
        "      <th></th>\n",
        "      <th colspan=\"3\" halign=\"left\">shot_made_flag</th>\n",
        "    </tr>\n",
        "    <tr>\n",
        "      <th></th>\n",
        "      <th></th>\n",
        "      <th>mean</th>\n",
        "      <th>sum</th>\n",
        "      <th>size</th>\n",
        "    </tr>\n",
        "    <tr>\n",
        "      <th>espn_player_id</th>\n",
        "      <th>previous_shot_made_flag</th>\n",
        "      <th></th>\n",
        "      <th></th>\n",
        "      <th></th>\n",
        "    </tr>\n",
        "  </thead>\n",
        "  <tbody>\n",
        "    <tr>\n",
        "      <th rowspan=\"2\" valign=\"top\">25.0</th>\n",
        "      <th>0</th>\n",
        "      <td>0.285714</td>\n",
        "      <td>6</td>\n",
        "      <td>21</td>\n",
        "    </tr>\n",
        "    <tr>\n",
        "      <th>1</th>\n",
        "      <td>0.000000</td>\n",
        "      <td>0</td>\n",
        "      <td>6</td>\n",
        "    </tr>\n",
        "    <tr>\n",
        "      <th rowspan=\"2\" valign=\"top\">136.0</th>\n",
        "      <th>0</th>\n",
        "      <td>0.380435</td>\n",
        "      <td>105</td>\n",
        "      <td>276</td>\n",
        "    </tr>\n",
        "    <tr>\n",
        "      <th>1</th>\n",
        "      <td>0.412429</td>\n",
        "      <td>73</td>\n",
        "      <td>177</td>\n",
        "    </tr>\n",
        "    <tr>\n",
        "      <th>165.0</th>\n",
        "      <th>0</th>\n",
        "      <td>0.430435</td>\n",
        "      <td>198</td>\n",
        "      <td>460</td>\n",
        "    </tr>\n",
        "  </tbody>\n",
        "</table>\n",
        "</div>"
       ],
       "metadata": {},
       "output_type": "pyout",
       "prompt_number": 8,
       "text": [
        "                                       shot_made_flag          \n",
        "                                                 mean  sum size\n",
        "espn_player_id previous_shot_made_flag                         \n",
        "25.0           0                             0.285714    6   21\n",
        "               1                             0.000000    0    6\n",
        "136.0          0                             0.380435  105  276\n",
        "               1                             0.412429   73  177\n",
        "165.0          0                             0.430435  198  460"
       ]
      }
     ],
     "prompt_number": 8
    },
    {
     "cell_type": "markdown",
     "metadata": {},
     "source": [
      "Adding columns for easier access of percentage after miss and make."
     ]
    },
    {
     "cell_type": "code",
     "collapsed": false,
     "input": [
      "player_shot_df_unstack = player_shot_df.unstack()\n",
      "player_shot_df_unstack['percent_after_miss'] = player_shot_df_unstack.loc[:]['shot_made_flag']['mean'][0]\n",
      "player_shot_df_unstack['percent_after_make'] = player_shot_df_unstack.loc[:]['shot_made_flag']['mean'][1]\n",
      "player_shot_df_unstack['num_shots'] = player_shot_df_unstack.loc[:]['shot_made_flag']['size'][0] + player_shot_df_unstack.loc[:]['shot_made_flag']['size'][1]\n",
      "player_shot_df_unstack.head()"
     ],
     "language": "python",
     "metadata": {},
     "outputs": [
      {
       "html": [
        "<div style=\"max-width:1500px;overflow:auto;\">\n",
        "<style>\n",
        "    .dataframe thead tr:only-child th {\n",
        "        text-align: right;\n",
        "    }\n",
        "\n",
        "    .dataframe thead th {\n",
        "        text-align: left;\n",
        "    }\n",
        "\n",
        "    .dataframe tbody tr th {\n",
        "        vertical-align: top;\n",
        "    }\n",
        "</style>\n",
        "<table border=\"1\" class=\"dataframe\">\n",
        "  <thead>\n",
        "    <tr>\n",
        "      <th></th>\n",
        "      <th colspan=\"6\" halign=\"left\">shot_made_flag</th>\n",
        "      <th>percent_after_miss</th>\n",
        "      <th>percent_after_make</th>\n",
        "      <th>num_shots</th>\n",
        "    </tr>\n",
        "    <tr>\n",
        "      <th></th>\n",
        "      <th colspan=\"2\" halign=\"left\">mean</th>\n",
        "      <th colspan=\"2\" halign=\"left\">sum</th>\n",
        "      <th colspan=\"2\" halign=\"left\">size</th>\n",
        "      <th></th>\n",
        "      <th></th>\n",
        "      <th></th>\n",
        "    </tr>\n",
        "    <tr>\n",
        "      <th>previous_shot_made_flag</th>\n",
        "      <th>0</th>\n",
        "      <th>1</th>\n",
        "      <th>0</th>\n",
        "      <th>1</th>\n",
        "      <th>0</th>\n",
        "      <th>1</th>\n",
        "      <th></th>\n",
        "      <th></th>\n",
        "      <th></th>\n",
        "    </tr>\n",
        "    <tr>\n",
        "      <th>espn_player_id</th>\n",
        "      <th></th>\n",
        "      <th></th>\n",
        "      <th></th>\n",
        "      <th></th>\n",
        "      <th></th>\n",
        "      <th></th>\n",
        "      <th></th>\n",
        "      <th></th>\n",
        "      <th></th>\n",
        "    </tr>\n",
        "  </thead>\n",
        "  <tbody>\n",
        "    <tr>\n",
        "      <th>25.0</th>\n",
        "      <td>0.285714</td>\n",
        "      <td>0.000000</td>\n",
        "      <td>6.0</td>\n",
        "      <td>0.0</td>\n",
        "      <td>21.0</td>\n",
        "      <td>6.0</td>\n",
        "      <td>0.285714</td>\n",
        "      <td>0.000000</td>\n",
        "      <td>27.0</td>\n",
        "    </tr>\n",
        "    <tr>\n",
        "      <th>136.0</th>\n",
        "      <td>0.380435</td>\n",
        "      <td>0.412429</td>\n",
        "      <td>105.0</td>\n",
        "      <td>73.0</td>\n",
        "      <td>276.0</td>\n",
        "      <td>177.0</td>\n",
        "      <td>0.380435</td>\n",
        "      <td>0.412429</td>\n",
        "      <td>453.0</td>\n",
        "    </tr>\n",
        "    <tr>\n",
        "      <th>165.0</th>\n",
        "      <td>0.430435</td>\n",
        "      <td>0.386997</td>\n",
        "      <td>198.0</td>\n",
        "      <td>125.0</td>\n",
        "      <td>460.0</td>\n",
        "      <td>323.0</td>\n",
        "      <td>0.430435</td>\n",
        "      <td>0.386997</td>\n",
        "      <td>783.0</td>\n",
        "    </tr>\n",
        "    <tr>\n",
        "      <th>272.0</th>\n",
        "      <td>0.385593</td>\n",
        "      <td>0.386667</td>\n",
        "      <td>91.0</td>\n",
        "      <td>58.0</td>\n",
        "      <td>236.0</td>\n",
        "      <td>150.0</td>\n",
        "      <td>0.385593</td>\n",
        "      <td>0.386667</td>\n",
        "      <td>386.0</td>\n",
        "    </tr>\n",
        "    <tr>\n",
        "      <th>558.0</th>\n",
        "      <td>0.285714</td>\n",
        "      <td>0.500000</td>\n",
        "      <td>2.0</td>\n",
        "      <td>3.0</td>\n",
        "      <td>7.0</td>\n",
        "      <td>6.0</td>\n",
        "      <td>0.285714</td>\n",
        "      <td>0.500000</td>\n",
        "      <td>13.0</td>\n",
        "    </tr>\n",
        "  </tbody>\n",
        "</table>\n",
        "</div>"
       ],
       "metadata": {},
       "output_type": "pyout",
       "prompt_number": 9,
       "text": [
        "                        shot_made_flag                                        \\\n",
        "                                  mean              sum          size          \n",
        "previous_shot_made_flag              0         1      0      1      0      1   \n",
        "espn_player_id                                                                 \n",
        "25.0                          0.285714  0.000000    6.0    0.0   21.0    6.0   \n",
        "136.0                         0.380435  0.412429  105.0   73.0  276.0  177.0   \n",
        "165.0                         0.430435  0.386997  198.0  125.0  460.0  323.0   \n",
        "272.0                         0.385593  0.386667   91.0   58.0  236.0  150.0   \n",
        "558.0                         0.285714  0.500000    2.0    3.0    7.0    6.0   \n",
        "\n",
        "                        percent_after_miss percent_after_make num_shots  \n",
        "                                                                         \n",
        "previous_shot_made_flag                                                  \n",
        "espn_player_id                                                           \n",
        "25.0                              0.285714           0.000000      27.0  \n",
        "136.0                             0.380435           0.412429     453.0  \n",
        "165.0                             0.430435           0.386997     783.0  \n",
        "272.0                             0.385593           0.386667     386.0  \n",
        "558.0                             0.285714           0.500000      13.0  "
       ]
      }
     ],
     "prompt_number": 9
    },
    {
     "cell_type": "markdown",
     "metadata": {},
     "source": [
      "We now have the shooting percentage for every player both after a miss and after a make.  If shooters do not get \"hot\", then it seems reasonable that for each player that percent_after_miss and percent_after_make should be roughly equal.  If shooters do get \"hot\", then it seems reasonable that for each player that percent_after_miss should typically be less than percent_after_make."
     ]
    },
    {
     "cell_type": "heading",
     "level": 2,
     "metadata": {},
     "source": [
      "Analyzing the data"
     ]
    },
    {
     "cell_type": "markdown",
     "metadata": {},
     "source": [
      "To start investigating these questions we can first plot the data in a scatter plot.  Points will be plotted with red points for a player that has a higher percentage after a make and blue points for a player that has a higher percentage after a miss."
     ]
    },
    {
     "cell_type": "code",
     "collapsed": false,
     "input": [
      "colors = np.where(player_shot_df_unstack['percent_after_miss']>player_shot_df_unstack['percent_after_make'], 'b', 'r')\n",
      "player_shot_df_unstack.plot(x='percent_after_miss', y='percent_after_make', kind='scatter', c=colors, figsize=(12,6))"
     ],
     "language": "python",
     "metadata": {},
     "outputs": [
      {
       "metadata": {},
       "output_type": "pyout",
       "prompt_number": 10,
       "text": [
        "<matplotlib.axes._subplots.AxesSubplot at 0x7fd9ba1fe110>"
       ]
      },
      {
       "metadata": {},
       "output_type": "display_data",
       "png": "[encoded data removed]",
       "text": [
        "<matplotlib.figure.Figure at 0x7fd9b84a3ad0>"
       ]
      }
     ],
     "prompt_number": 10
    },
    {
     "cell_type": "markdown",
     "metadata": {},
     "source": [
      "The previous scatter plot does not seem to allow us to defnitively conclude much of anything.  Players seem roughly split between those that shoot better after a miss and those that shoot better after a make.\n",
      "\n",
      "We can run statistical tests to evaluate the results objectively.\n",
      "\n",
      "The first test we will try is a t-test.  Our null hypothesis will be that shooting percentage after a make and shooting percentage after a miss are the same.  The alternative hypothesis will be that shooting percentage after a make is greater than shooting percentage after a miss.  Let's assume an alpha value of 0.05 which means that we need a p-value less than 0.05 to reject the null hypothesis and conclude the data support that players have a better shooting percentage after a make.  Note that this results in a one-tailed test.  Annoyingly, python's standard libraries seem to only compute p-values for a two-tailed test.  That means we need to divide the python calculated p-value by 2 and then possibly subtracting from 1 (depending on whether the t-statistic is positive or negative) to get our true p-value."
     ]
    },
    {
     "cell_type": "code",
     "collapsed": false,
     "input": [
      "import scipy.stats\n",
      "\n",
      "(t, p) = scipy.stats.ttest_1samp(player_shot_df_unstack['percent_after_make']-player_shot_df_unstack['percent_after_miss'],0,nan_policy='omit')\n",
      "if t > 0:\n",
      "    # t>0 implies percent_after_make is generally greater than percent_after_miss\n",
      "    # so this is the tail that (at least somewhat) supports our alternative hypothesis\n",
      "    p = p/2\n",
      "else:\n",
      "    # t<0 implies percent_after_make is generally less than percent_after_miss\n",
      "    # so this is the tail that definitely does not support our alternative hypothesis\n",
      "    p = 1 - p/2\n",
      "p"
     ],
     "language": "python",
     "metadata": {},
     "outputs": [
      {
       "metadata": {},
       "output_type": "pyout",
       "prompt_number": 11,
       "text": [
        "0.99951561688842283"
       ]
      }
     ],
     "prompt_number": 11
    },
    {
     "cell_type": "markdown",
     "metadata": {},
     "source": [
      "So, our p-value is (much) larger than 0.05 which means the data do not support the hot hand hypothesis.  In fact, the data would have supported the hypothesis that the average shooting percentage of players is higher after a miss than after a make.\n",
      "\n",
      "This p-value feels suspiciously high.  Maybe we should check with some random data.  We can fill in the shot_made_flag column with random values of 0 or 1 and see what the result is.  If everything is set up correctly, then we should get an average p-value of 0.5.  Note that this implies that we will want to rerun a p-value calculation multiple times, so we should create a function."
     ]
    },
    {
     "cell_type": "code",
     "collapsed": false,
     "input": [
      "def calculatePValueForShootingPercentageAfterMake(shots):\n",
      "    shots = shots.sort_values(by=['espn_player_id', 'game_date','period','minutes_remaining','seconds_remaining'],axis=0,ascending=[True,True,True,False,False])\n",
      "    shots['previous_shot_made_flag'] = np.where((shots['shot_made_flag'].shift(1) == 1) & (shots['espn_player_id'] == shots['espn_player_id'].shift(1)),1,0)\n",
      "    shots_only_previous = shots[shots['espn_player_id'] == shots['espn_player_id'].shift(1)]\n",
      "    player_shot_df = shots_only_previous[['previous_shot_made_flag','espn_player_id','shot_made_flag']].groupby(['espn_player_id','previous_shot_made_flag']).aggregate([numpy.mean,numpy.sum,size])\n",
      "    player_shot_df_unstack = player_shot_df.unstack()\n",
      "    player_shot_df_unstack['percent_after_miss'] = player_shot_df_unstack.loc[:]['shot_made_flag']['mean'][0]\n",
      "    player_shot_df_unstack['percent_after_make'] = player_shot_df_unstack.loc[:]['shot_made_flag']['mean'][1]\n",
      "    \n",
      "    (t, p) = scipy.stats.ttest_1samp(player_shot_df_unstack['percent_after_make']-player_shot_df_unstack['percent_after_miss'],0,nan_policy='omit')\n",
      "    if t > 0:\n",
      "        # t>0 implies percent_after_make is generally greater than percent_after_miss\n",
      "        # so this is the tail that (at least somewhat) supports our alternative hypothesis\n",
      "        p = p/2\n",
      "    else:\n",
      "        # t<0 implies percent_after_make is generally less than percent_after_miss\n",
      "        # so this is the tail that definitely does not support our alternative hypothesis\n",
      "        p = 1 - p/2\n",
      "    return p\n",
      "\n",
      "calculatePValueForShootingPercentageAfterMake(shots)\n"
     ],
     "language": "python",
     "metadata": {},
     "outputs": [
      {
       "metadata": {},
       "output_type": "pyout",
       "prompt_number": 24,
       "text": [
        "0.99951561688842283"
       ]
      }
     ],
     "prompt_number": 24
    },
    {
     "cell_type": "markdown",
     "metadata": {},
     "source": [
      "Now, lets run the function on some random values and see if we get p-values spread around 0.5 or not."
     ]
    },
    {
     "cell_type": "code",
     "collapsed": false,
     "input": [
      "for x in range(20):\n",
      "    shotsCopy = shots.copy()\n",
      "    shotsCopy['shot_made_flag'] = np.random.randint(0,2,size=shots['shot_made_flag'].count())\n",
      "    print(calculatePValueForShootingPercentageAfterMake(shotsCopy))"
     ],
     "language": "python",
     "metadata": {},
     "outputs": [
      {
       "output_type": "stream",
       "stream": "stdout",
       "text": [
        "0.999524378093\n",
        "0.918404175204"
       ]
      },
      {
       "output_type": "stream",
       "stream": "stdout",
       "text": [
        "\n",
        "0.999474291872"
       ]
      },
      {
       "output_type": "stream",
       "stream": "stdout",
       "text": [
        "\n",
        "0.965422649831"
       ]
      },
      {
       "output_type": "stream",
       "stream": "stdout",
       "text": [
        "\n",
        "0.989994890273"
       ]
      },
      {
       "output_type": "stream",
       "stream": "stdout",
       "text": [
        "\n",
        "0.965013223017"
       ]
      },
      {
       "output_type": "stream",
       "stream": "stdout",
       "text": [
        "\n",
        "0.994195754237"
       ]
      },
      {
       "output_type": "stream",
       "stream": "stdout",
       "text": [
        "\n",
        "0.998367295551"
       ]
      },
      {
       "output_type": "stream",
       "stream": "stdout",
       "text": [
        "\n",
        "0.998755266516"
       ]
      },
      {
       "output_type": "stream",
       "stream": "stdout",
       "text": [
        "\n",
        "0.999208310905"
       ]
      },
      {
       "output_type": "stream",
       "stream": "stdout",
       "text": [
        "\n",
        "0.975260997665"
       ]
      },
      {
       "output_type": "stream",
       "stream": "stdout",
       "text": [
        "\n",
        "0.999923787275"
       ]
      },
      {
       "output_type": "stream",
       "stream": "stdout",
       "text": [
        "\n",
        "0.999143615849"
       ]
      },
      {
       "output_type": "stream",
       "stream": "stdout",
       "text": [
        "\n",
        "0.993363560045"
       ]
      },
      {
       "output_type": "stream",
       "stream": "stdout",
       "text": [
        "\n",
        "0.989404834933"
       ]
      },
      {
       "output_type": "stream",
       "stream": "stdout",
       "text": [
        "\n",
        "0.995887948073"
       ]
      },
      {
       "output_type": "stream",
       "stream": "stdout",
       "text": [
        "\n",
        "0.998927284319"
       ]
      },
      {
       "output_type": "stream",
       "stream": "stdout",
       "text": [
        "\n",
        "0.996323940589"
       ]
      },
      {
       "output_type": "stream",
       "stream": "stdout",
       "text": [
        "\n",
        "0.991540440743"
       ]
      },
      {
       "output_type": "stream",
       "stream": "stdout",
       "text": [
        "\n",
        "0.996692146509"
       ]
      },
      {
       "output_type": "stream",
       "stream": "stdout",
       "text": [
        "\n"
       ]
      }
     ],
     "prompt_number": 25
    },
    {
     "cell_type": "markdown",
     "metadata": {},
     "source": [
      "Those results suggest something is wrong in our calculations.  All of the p-values from random data were greater than 0.91.\n",
      "\n",
      "It turns out that Miller and Sanjurjo published a paper in 2015 explaining where our previous calculations went wrong.  Suprisingly, from random data the expected value of the observed percentage after a make is lower than the expected value of the observed percentage after a miss.  In fact, if there were n total shots, then the expected difference in the observed shooting percentages after a make and a miss is 1/(n-1).\n",
      "\n",
      "We can adjust our function for calculating p-values accordingly."
     ]
    },
    {
     "cell_type": "code",
     "collapsed": false,
     "input": [
      "def calculatePValueForShootingPercentageAfterMake(shots):\n",
      "    shots = shots.sort_values(by=['espn_player_id', 'game_date','period','minutes_remaining','seconds_remaining'],axis=0,ascending=[True,True,True,False,False])\n",
      "    shots['previous_shot_made_flag'] = np.where((shots['shot_made_flag'].shift(1) == 1) & (shots['espn_player_id'] == shots['espn_player_id'].shift(1)),1,0)\n",
      "    shots_only_previous = shots[shots['espn_player_id'] == shots['espn_player_id'].shift(1)]\n",
      "    player_shot_df = shots_only_previous[['previous_shot_made_flag','espn_player_id','shot_made_flag']].groupby(['espn_player_id','previous_shot_made_flag']).aggregate([numpy.mean,numpy.sum,size])\n",
      "    player_shot_df_unstack = player_shot_df.unstack()\n",
      "    player_shot_df_unstack['percent_after_miss'] = player_shot_df_unstack.loc[:]['shot_made_flag']['mean'][0]\n",
      "    player_shot_df_unstack['percent_after_make'] = player_shot_df_unstack.loc[:]['shot_made_flag']['mean'][1]\n",
      "    player_shot_df_unstack['num_shots'] = player_shot_df_unstack.loc[:]['shot_made_flag']['size'][1] + player_shot_df_unstack.loc[:]['shot_made_flag']['size'][0]\n",
      "    \n",
      "    (t, p) = scipy.stats.ttest_1samp(player_shot_df_unstack['percent_after_make']-player_shot_df_unstack['percent_after_miss']+1/(player_shot_df_unstack['num_shots']-1),0,nan_policy='omit')\n",
      "    if t > 0:\n",
      "        # t>0 implies percent_after_make is generally greater than percent_after_miss\n",
      "        # so this is the tail that (at least somewhat) supports our alternative hypothesis\n",
      "        p = p/2\n",
      "    else:\n",
      "        # t<0 implies percent_after_make is generally less than percent_after_miss\n",
      "        # so this is the tail that definitely does not support our alternative hypothesis\n",
      "        p = 1 - p/2\n",
      "    return p\n",
      "\n",
      "calculatePValueForShootingPercentageAfterMake(shots)\n"
     ],
     "language": "python",
     "metadata": {},
     "outputs": [
      {
       "metadata": {},
       "output_type": "pyout",
       "prompt_number": 27,
       "text": [
        "0.49863567418844901"
       ]
      }
     ],
     "prompt_number": 27
    },
    {
     "cell_type": "markdown",
     "metadata": {},
     "source": [
      "The new function gives a p-value of 0.4986 which is larger than 0.05, so we still fail to conclude that NBA players' shooting percentages go up after a make.\n",
      "\n",
      "Let's validate the new funciton against random data.  Again, we expect p-values to be spread around 0.5."
     ]
    },
    {
     "cell_type": "code",
     "collapsed": false,
     "input": [
      "pValues = []\n",
      "for x in range(50):\n",
      "    shotsCopy = shots.copy()\n",
      "    shotsCopy['shot_made_flag'] = np.random.randint(0,2,size=shots['shot_made_flag'].count())\n",
      "    p = calculatePValueForShootingPercentageAfterMake(shotsCopy)\n",
      "    pValues.append(p)\n",
      "    print(p)\n",
      "print \"average p-value: \" + str(numpy.mean(pValues))\n"
     ],
     "language": "python",
     "metadata": {},
     "outputs": [
      {
       "output_type": "stream",
       "stream": "stdout",
       "text": [
        "0.023361825111\n",
        "0.241537592904"
       ]
      },
      {
       "output_type": "stream",
       "stream": "stdout",
       "text": [
        "\n",
        "0.785776027255"
       ]
      },
      {
       "output_type": "stream",
       "stream": "stdout",
       "text": [
        "\n",
        "0.776413407633"
       ]
      },
      {
       "output_type": "stream",
       "stream": "stdout",
       "text": [
        "\n",
        "0.834478380374"
       ]
      },
      {
       "output_type": "stream",
       "stream": "stdout",
       "text": [
        "\n",
        "0.107786172128"
       ]
      },
      {
       "output_type": "stream",
       "stream": "stdout",
       "text": [
        "\n",
        "0.367732789438"
       ]
      },
      {
       "output_type": "stream",
       "stream": "stdout",
       "text": [
        "\n",
        "0.000637740828976"
       ]
      },
      {
       "output_type": "stream",
       "stream": "stdout",
       "text": [
        "\n",
        "0.128140996598"
       ]
      },
      {
       "output_type": "stream",
       "stream": "stdout",
       "text": [
        "\n",
        "0.402978849413"
       ]
      },
      {
       "output_type": "stream",
       "stream": "stdout",
       "text": [
        "\n",
        "0.464596806917"
       ]
      },
      {
       "output_type": "stream",
       "stream": "stdout",
       "text": [
        "\n",
        "0.67865720979"
       ]
      },
      {
       "output_type": "stream",
       "stream": "stdout",
       "text": [
        "\n",
        "0.849895067435"
       ]
      },
      {
       "output_type": "stream",
       "stream": "stdout",
       "text": [
        "\n",
        "0.365554044433"
       ]
      },
      {
       "output_type": "stream",
       "stream": "stdout",
       "text": [
        "\n",
        "0.363042544509"
       ]
      },
      {
       "output_type": "stream",
       "stream": "stdout",
       "text": [
        "\n",
        "0.0246019476032"
       ]
      },
      {
       "output_type": "stream",
       "stream": "stdout",
       "text": [
        "\n",
        "0.154279966533"
       ]
      },
      {
       "output_type": "stream",
       "stream": "stdout",
       "text": [
        "\n",
        "0.524419374552"
       ]
      },
      {
       "output_type": "stream",
       "stream": "stdout",
       "text": [
        "\n",
        "0.00794346972455"
       ]
      },
      {
       "output_type": "stream",
       "stream": "stdout",
       "text": [
        "\n",
        "0.192118705364"
       ]
      },
      {
       "output_type": "stream",
       "stream": "stdout",
       "text": [
        "\n",
        "0.832698159369"
       ]
      },
      {
       "output_type": "stream",
       "stream": "stdout",
       "text": [
        "\n",
        "0.063332021995"
       ]
      },
      {
       "output_type": "stream",
       "stream": "stdout",
       "text": [
        "\n",
        "0.915089030317"
       ]
      },
      {
       "output_type": "stream",
       "stream": "stdout",
       "text": [
        "\n",
        "0.672887569924"
       ]
      },
      {
       "output_type": "stream",
       "stream": "stdout",
       "text": [
        "\n",
        "0.195274003287"
       ]
      },
      {
       "output_type": "stream",
       "stream": "stdout",
       "text": [
        "\n",
        "0.670574077854"
       ]
      },
      {
       "output_type": "stream",
       "stream": "stdout",
       "text": [
        "\n",
        "0.240475949884"
       ]
      },
      {
       "output_type": "stream",
       "stream": "stdout",
       "text": [
        "\n",
        "0.0345276572415"
       ]
      },
      {
       "output_type": "stream",
       "stream": "stdout",
       "text": [
        "\n",
        "0.141134974113"
       ]
      },
      {
       "output_type": "stream",
       "stream": "stdout",
       "text": [
        "\n",
        "0.00474361651476"
       ]
      },
      {
       "output_type": "stream",
       "stream": "stdout",
       "text": [
        "\n",
        "0.0990204056657"
       ]
      },
      {
       "output_type": "stream",
       "stream": "stdout",
       "text": [
        "\n",
        "0.287324041083"
       ]
      },
      {
       "output_type": "stream",
       "stream": "stdout",
       "text": [
        "\n",
        "0.99129161782"
       ]
      },
      {
       "output_type": "stream",
       "stream": "stdout",
       "text": [
        "\n",
        "0.377123094525"
       ]
      },
      {
       "output_type": "stream",
       "stream": "stdout",
       "text": [
        "\n",
        "0.122079764317"
       ]
      },
      {
       "output_type": "stream",
       "stream": "stdout",
       "text": [
        "\n",
        "0.00114586579264"
       ]
      },
      {
       "output_type": "stream",
       "stream": "stdout",
       "text": [
        "\n",
        "0.11499514665"
       ]
      },
      {
       "output_type": "stream",
       "stream": "stdout",
       "text": [
        "\n",
        "0.0456389390104"
       ]
      },
      {
       "output_type": "stream",
       "stream": "stdout",
       "text": [
        "\n",
        "0.231975141928"
       ]
      },
      {
       "output_type": "stream",
       "stream": "stdout",
       "text": [
        "\n",
        "0.0716988006847"
       ]
      },
      {
       "output_type": "stream",
       "stream": "stdout",
       "text": [
        "\n",
        "0.353864970557"
       ]
      },
      {
       "output_type": "stream",
       "stream": "stdout",
       "text": [
        "\n",
        "0.0467225838202"
       ]
      },
      {
       "output_type": "stream",
       "stream": "stdout",
       "text": [
        "\n",
        "0.731909819774"
       ]
      },
      {
       "output_type": "stream",
       "stream": "stdout",
       "text": [
        "\n",
        "0.0499774891292"
       ]
      },
      {
       "output_type": "stream",
       "stream": "stdout",
       "text": [
        "\n",
        "0.122554019643"
       ]
      },
      {
       "output_type": "stream",
       "stream": "stdout",
       "text": [
        "\n",
        "0.121457132149"
       ]
      },
      {
       "output_type": "stream",
       "stream": "stdout",
       "text": [
        "\n",
        "0.182580284804"
       ]
      },
      {
       "output_type": "stream",
       "stream": "stdout",
       "text": [
        "\n",
        "0.397021433303"
       ]
      },
      {
       "output_type": "stream",
       "stream": "stdout",
       "text": [
        "\n",
        "0.23523980775"
       ]
      },
      {
       "output_type": "stream",
       "stream": "stdout",
       "text": [
        "\n",
        "0.568561337804"
       ]
      },
      {
       "output_type": "stream",
       "stream": "stdout",
       "text": [
        "\n",
        "average p-value: 0.324337433505\n"
       ]
      }
     ],
     "prompt_number": 39
    },
    {
     "cell_type": "markdown",
     "metadata": {},
     "source": [
      "This is strange.  We expect to get p-values from random data to average 0.5.  But, our random p-values are all bigger than 0.8.  This indicates something is wrong in our analysis."
     ]
    },
    {
     "cell_type": "markdown",
     "metadata": {},
     "source": [
      "Where to go from here?  There are a number of things we could tidy up.  Some of these include the following.\n",
      "\n",
      "<ul>\n",
      "<li>Each player's shots are viewed as one sequence for the entire year.  We could split each player's shots on a per game basis.\n",
      "<li>The t-test assumes that the distribution of differences between percent after make and miss is normally distributed.  We could look into the validity of that assumption.\n",
      "<li>There seem to be a fair number of outliers in the scatter plot.  It seems likely that a lot of the outliers are players that took very few shots.  One option to deal with the outliers would be to only consider players that took at least a certain number of shots.  That seems tempting at first, but once we split each players shots into individual games we will need to consider relatively small numbers of shots anyway.  Hopefully, we can use appropriate statistics to account for a player with a small number of shots.  The essential problem we have is that we are using something roughly akin to an average-of-averages which is problematic with each inner average having a different sample size.\n",
      "<li>We can extend our analysis to look at more than the previous shot.  Maybe the previous n shots for some n=2 or n=3.\n",
      "<li>We could account for the different shot types.  Maybe do something like only looking at 3-point shots or jump shots.\n",
      "<li>We could apply machine learning (or other) techniques to look for patterns in the players that do have a better shooting percentage after a make or a miss.\n",
      "<li>We could investigate the grouping step of the data arranging.  This step takes a fair amount of time.  Perhaps there is a more efficient way to perform the same task.\n",
      "</ul>"
     ]
    },
    {
     "cell_type": "heading",
     "level": 2,
     "metadata": {},
     "source": [
      "Splitting shots on a per game basis"
     ]
    },
    {
     "cell_type": "markdown",
     "metadata": {},
     "source": [
      "In principal we should be able to use almost the same procedure as when we split on player only.  We just need to group by both the player and the game."
     ]
    },
    {
     "cell_type": "code",
     "collapsed": false,
     "input": [
      "shots_only_previous.head()"
     ],
     "language": "python",
     "metadata": {},
     "outputs": [
      {
       "html": [
        "<div style=\"max-width:1500px;overflow:auto;\">\n",
        "<style>\n",
        "    .dataframe thead tr:only-child th {\n",
        "        text-align: right;\n",
        "    }\n",
        "\n",
        "    .dataframe thead th {\n",
        "        text-align: left;\n",
        "    }\n",
        "\n",
        "    .dataframe tbody tr th {\n",
        "        vertical-align: top;\n",
        "    }\n",
        "</style>\n",
        "<table border=\"1\" class=\"dataframe\">\n",
        "  <thead>\n",
        "    <tr style=\"text-align: right;\">\n",
        "      <th></th>\n",
        "      <th>name</th>\n",
        "      <th>game_date</th>\n",
        "      <th>espn_player_id</th>\n",
        "      <th>period</th>\n",
        "      <th>minutes_remaining</th>\n",
        "      <th>seconds_remaining</th>\n",
        "      <th>shot_made_flag</th>\n",
        "      <th>previous_shot_made_flag</th>\n",
        "    </tr>\n",
        "  </thead>\n",
        "  <tbody>\n",
        "    <tr>\n",
        "      <th>189</th>\n",
        "      <td>Metta World Peace</td>\n",
        "      <td>2016-10-30</td>\n",
        "      <td>25.0</td>\n",
        "      <td>1</td>\n",
        "      <td>1</td>\n",
        "      <td>6</td>\n",
        "      <td>0</td>\n",
        "      <td>0</td>\n",
        "    </tr>\n",
        "    <tr>\n",
        "      <th>15320</th>\n",
        "      <td>Metta World Peace</td>\n",
        "      <td>2016-11-08</td>\n",
        "      <td>25.0</td>\n",
        "      <td>4</td>\n",
        "      <td>6</td>\n",
        "      <td>24</td>\n",
        "      <td>0</td>\n",
        "      <td>0</td>\n",
        "    </tr>\n",
        "    <tr>\n",
        "      <th>28798</th>\n",
        "      <td>Metta World Peace</td>\n",
        "      <td>2016-11-08</td>\n",
        "      <td>25.0</td>\n",
        "      <td>4</td>\n",
        "      <td>5</td>\n",
        "      <td>39</td>\n",
        "      <td>0</td>\n",
        "      <td>0</td>\n",
        "    </tr>\n",
        "    <tr>\n",
        "      <th>33601</th>\n",
        "      <td>Metta World Peace</td>\n",
        "      <td>2016-11-23</td>\n",
        "      <td>25.0</td>\n",
        "      <td>1</td>\n",
        "      <td>7</td>\n",
        "      <td>39</td>\n",
        "      <td>1</td>\n",
        "      <td>0</td>\n",
        "    </tr>\n",
        "    <tr>\n",
        "      <th>23045</th>\n",
        "      <td>Metta World Peace</td>\n",
        "      <td>2016-11-23</td>\n",
        "      <td>25.0</td>\n",
        "      <td>1</td>\n",
        "      <td>4</td>\n",
        "      <td>21</td>\n",
        "      <td>0</td>\n",
        "      <td>1</td>\n",
        "    </tr>\n",
        "  </tbody>\n",
        "</table>\n",
        "</div>"
       ],
       "metadata": {},
       "output_type": "pyout",
       "prompt_number": 14,
       "text": [
        "                    name   game_date  espn_player_id  period  \\\n",
        "189    Metta World Peace  2016-10-30            25.0       1   \n",
        "15320  Metta World Peace  2016-11-08            25.0       4   \n",
        "28798  Metta World Peace  2016-11-08            25.0       4   \n",
        "33601  Metta World Peace  2016-11-23            25.0       1   \n",
        "23045  Metta World Peace  2016-11-23            25.0       1   \n",
        "\n",
        "       minutes_remaining  seconds_remaining  shot_made_flag  \\\n",
        "189                    1                  6               0   \n",
        "15320                  6                 24               0   \n",
        "28798                  5                 39               0   \n",
        "33601                  7                 39               1   \n",
        "23045                  4                 21               0   \n",
        "\n",
        "       previous_shot_made_flag  \n",
        "189                          0  \n",
        "15320                        0  \n",
        "28798                        0  \n",
        "33601                        0  \n",
        "23045                        1  "
       ]
      }
     ],
     "prompt_number": 14
    },
    {
     "cell_type": "code",
     "collapsed": false,
     "input": [
      "player_shot_df = shots_only_previous[['previous_shot_made_flag','game_date','espn_player_id','shot_made_flag']].groupby(['espn_player_id','game_date','previous_shot_made_flag']).aggregate([numpy.mean,numpy.sum])\n",
      "player_shot_df.head()"
     ],
     "language": "python",
     "metadata": {},
     "outputs": [
      {
       "html": [
        "<div style=\"max-width:1500px;overflow:auto;\">\n",
        "<style>\n",
        "    .dataframe thead tr:only-child th {\n",
        "        text-align: right;\n",
        "    }\n",
        "\n",
        "    .dataframe thead th {\n",
        "        text-align: left;\n",
        "    }\n",
        "\n",
        "    .dataframe tbody tr th {\n",
        "        vertical-align: top;\n",
        "    }\n",
        "</style>\n",
        "<table border=\"1\" class=\"dataframe\">\n",
        "  <thead>\n",
        "    <tr>\n",
        "      <th></th>\n",
        "      <th></th>\n",
        "      <th></th>\n",
        "      <th colspan=\"2\" halign=\"left\">shot_made_flag</th>\n",
        "    </tr>\n",
        "    <tr>\n",
        "      <th></th>\n",
        "      <th></th>\n",
        "      <th></th>\n",
        "      <th>mean</th>\n",
        "      <th>sum</th>\n",
        "    </tr>\n",
        "    <tr>\n",
        "      <th>espn_player_id</th>\n",
        "      <th>game_date</th>\n",
        "      <th>previous_shot_made_flag</th>\n",
        "      <th></th>\n",
        "      <th></th>\n",
        "    </tr>\n",
        "  </thead>\n",
        "  <tbody>\n",
        "    <tr>\n",
        "      <th rowspan=\"5\" valign=\"top\">25.0</th>\n",
        "      <th>2016-10-30</th>\n",
        "      <th>0</th>\n",
        "      <td>0.0</td>\n",
        "      <td>0</td>\n",
        "    </tr>\n",
        "    <tr>\n",
        "      <th>2016-11-08</th>\n",
        "      <th>0</th>\n",
        "      <td>0.0</td>\n",
        "      <td>0</td>\n",
        "    </tr>\n",
        "    <tr>\n",
        "      <th rowspan=\"2\" valign=\"top\">2016-11-23</th>\n",
        "      <th>0</th>\n",
        "      <td>1.0</td>\n",
        "      <td>2</td>\n",
        "    </tr>\n",
        "    <tr>\n",
        "      <th>1</th>\n",
        "      <td>0.0</td>\n",
        "      <td>0</td>\n",
        "    </tr>\n",
        "    <tr>\n",
        "      <th>2016-11-29</th>\n",
        "      <th>0</th>\n",
        "      <td>0.2</td>\n",
        "      <td>1</td>\n",
        "    </tr>\n",
        "  </tbody>\n",
        "</table>\n",
        "</div>"
       ],
       "metadata": {},
       "output_type": "pyout",
       "prompt_number": 15,
       "text": [
        "                                                  shot_made_flag    \n",
        "                                                            mean sum\n",
        "espn_player_id game_date  previous_shot_made_flag                   \n",
        "25.0           2016-10-30 0                                  0.0   0\n",
        "               2016-11-08 0                                  0.0   0\n",
        "               2016-11-23 0                                  1.0   2\n",
        "                          1                                  0.0   0\n",
        "               2016-11-29 0                                  0.2   1"
       ]
      }
     ],
     "prompt_number": 15
    },
    {
     "cell_type": "code",
     "collapsed": false,
     "input": [
      "player_shot_df_unstack = player_shot_df.unstack()\n",
      "player_shot_df_unstack['percent_after_miss'] = player_shot_df_unstack.loc[:]['shot_made_flag']['mean'][0]\n",
      "player_shot_df_unstack['percent_after_make'] = player_shot_df_unstack.loc[:]['shot_made_flag']['mean'][1]\n",
      "player_shot_df_unstack.head()"
     ],
     "language": "python",
     "metadata": {},
     "outputs": [
      {
       "html": [
        "<div style=\"max-width:1500px;overflow:auto;\">\n",
        "<style>\n",
        "    .dataframe thead tr:only-child th {\n",
        "        text-align: right;\n",
        "    }\n",
        "\n",
        "    .dataframe thead th {\n",
        "        text-align: left;\n",
        "    }\n",
        "\n",
        "    .dataframe tbody tr th {\n",
        "        vertical-align: top;\n",
        "    }\n",
        "</style>\n",
        "<table border=\"1\" class=\"dataframe\">\n",
        "  <thead>\n",
        "    <tr>\n",
        "      <th></th>\n",
        "      <th></th>\n",
        "      <th colspan=\"4\" halign=\"left\">shot_made_flag</th>\n",
        "      <th>percent_after_miss</th>\n",
        "      <th>percent_after_make</th>\n",
        "    </tr>\n",
        "    <tr>\n",
        "      <th></th>\n",
        "      <th></th>\n",
        "      <th colspan=\"2\" halign=\"left\">mean</th>\n",
        "      <th colspan=\"2\" halign=\"left\">sum</th>\n",
        "      <th></th>\n",
        "      <th></th>\n",
        "    </tr>\n",
        "    <tr>\n",
        "      <th></th>\n",
        "      <th>previous_shot_made_flag</th>\n",
        "      <th>0</th>\n",
        "      <th>1</th>\n",
        "      <th>0</th>\n",
        "      <th>1</th>\n",
        "      <th></th>\n",
        "      <th></th>\n",
        "    </tr>\n",
        "    <tr>\n",
        "      <th>espn_player_id</th>\n",
        "      <th>game_date</th>\n",
        "      <th></th>\n",
        "      <th></th>\n",
        "      <th></th>\n",
        "      <th></th>\n",
        "      <th></th>\n",
        "      <th></th>\n",
        "    </tr>\n",
        "  </thead>\n",
        "  <tbody>\n",
        "    <tr>\n",
        "      <th rowspan=\"5\" valign=\"top\">25.0</th>\n",
        "      <th>2016-10-30</th>\n",
        "      <td>0.0</td>\n",
        "      <td>NaN</td>\n",
        "      <td>0.0</td>\n",
        "      <td>NaN</td>\n",
        "      <td>0.0</td>\n",
        "      <td>NaN</td>\n",
        "    </tr>\n",
        "    <tr>\n",
        "      <th>2016-11-08</th>\n",
        "      <td>0.0</td>\n",
        "      <td>NaN</td>\n",
        "      <td>0.0</td>\n",
        "      <td>NaN</td>\n",
        "      <td>0.0</td>\n",
        "      <td>NaN</td>\n",
        "    </tr>\n",
        "    <tr>\n",
        "      <th>2016-11-23</th>\n",
        "      <td>1.0</td>\n",
        "      <td>0.0</td>\n",
        "      <td>2.0</td>\n",
        "      <td>0.0</td>\n",
        "      <td>1.0</td>\n",
        "      <td>0.0</td>\n",
        "    </tr>\n",
        "    <tr>\n",
        "      <th>2016-11-29</th>\n",
        "      <td>0.2</td>\n",
        "      <td>NaN</td>\n",
        "      <td>1.0</td>\n",
        "      <td>NaN</td>\n",
        "      <td>0.2</td>\n",
        "      <td>NaN</td>\n",
        "    </tr>\n",
        "    <tr>\n",
        "      <th>2016-12-02</th>\n",
        "      <td>NaN</td>\n",
        "      <td>0.0</td>\n",
        "      <td>NaN</td>\n",
        "      <td>0.0</td>\n",
        "      <td>NaN</td>\n",
        "      <td>0.0</td>\n",
        "    </tr>\n",
        "  </tbody>\n",
        "</table>\n",
        "</div>"
       ],
       "metadata": {},
       "output_type": "pyout",
       "prompt_number": 16,
       "text": [
        "                          shot_made_flag                percent_after_miss  \\\n",
        "                                    mean       sum                           \n",
        "previous_shot_made_flag                0    1    0    1                      \n",
        "espn_player_id game_date                                                     \n",
        "25.0           2016-10-30            0.0  NaN  0.0  NaN                0.0   \n",
        "               2016-11-08            0.0  NaN  0.0  NaN                0.0   \n",
        "               2016-11-23            1.0  0.0  2.0  0.0                1.0   \n",
        "               2016-11-29            0.2  NaN  1.0  NaN                0.2   \n",
        "               2016-12-02            NaN  0.0  NaN  0.0                NaN   \n",
        "\n",
        "                          percent_after_make  \n",
        "                                              \n",
        "previous_shot_made_flag                       \n",
        "espn_player_id game_date                      \n",
        "25.0           2016-10-30                NaN  \n",
        "               2016-11-08                NaN  \n",
        "               2016-11-23                0.0  \n",
        "               2016-11-29                NaN  \n",
        "               2016-12-02                0.0  "
       ]
      }
     ],
     "prompt_number": 16
    },
    {
     "cell_type": "markdown",
     "metadata": {},
     "source": [
      "That worked, but it took a long time to evaluate.  This is certainly a candidate to find a more efficient method."
     ]
    },
    {
     "cell_type": "markdown",
     "metadata": {},
     "source": [
      "There is also some concern that we are throwing away too much of our data.  Consider the player with espn_player_id of 25.  The splitting by game results in 3 games where the player had a miss and a make before their last shot.  However, we can look at all that player's shots."
     ]
    },
    {
     "cell_type": "code",
     "collapsed": false,
     "input": [
      "shots[shots['espn_player_id']==25].groupby(['game_date']).size()"
     ],
     "language": "python",
     "metadata": {},
     "outputs": [
      {
       "metadata": {},
       "output_type": "pyout",
       "prompt_number": 17,
       "text": [
        "game_date\n",
        "2016-10-30    2\n",
        "2016-11-08    2\n",
        "2016-11-23    4\n",
        "2016-11-29    5\n",
        "2016-12-02    1\n",
        "2016-12-05    5\n",
        "2016-12-07    1\n",
        "2016-12-22    1\n",
        "2017-01-06    1\n",
        "2017-01-14    2\n",
        "2017-02-06    3\n",
        "2017-03-13    1\n",
        "dtype: int64"
       ]
      }
     ],
     "prompt_number": 17
    },
    {
     "cell_type": "markdown",
     "metadata": {},
     "source": [
      "We see the player had shots in 12 games, but we are only looking at 3 of those games.  This is likely worth looking at later, but we will ignore this issue for now with the logic that players not taking many shots are not what we are really interested in anyway."
     ]
    },
    {
     "cell_type": "markdown",
     "metadata": {},
     "source": [
      "We can get a summary of the data."
     ]
    },
    {
     "cell_type": "code",
     "collapsed": false,
     "input": [
      "player_shot_df.describe()"
     ],
     "language": "python",
     "metadata": {},
     "outputs": [
      {
       "html": [
        "<div style=\"max-width:1500px;overflow:auto;\">\n",
        "<style>\n",
        "    .dataframe thead tr:only-child th {\n",
        "        text-align: right;\n",
        "    }\n",
        "\n",
        "    .dataframe thead th {\n",
        "        text-align: left;\n",
        "    }\n",
        "\n",
        "    .dataframe tbody tr th {\n",
        "        vertical-align: top;\n",
        "    }\n",
        "</style>\n",
        "<table border=\"1\" class=\"dataframe\">\n",
        "  <thead>\n",
        "    <tr>\n",
        "      <th></th>\n",
        "      <th colspan=\"2\" halign=\"left\">shot_made_flag</th>\n",
        "    </tr>\n",
        "    <tr>\n",
        "      <th></th>\n",
        "      <th>mean</th>\n",
        "      <th>sum</th>\n",
        "    </tr>\n",
        "  </thead>\n",
        "  <tbody>\n",
        "    <tr>\n",
        "      <th>count</th>\n",
        "      <td>39552.000000</td>\n",
        "      <td>39552.000000</td>\n",
        "    </tr>\n",
        "    <tr>\n",
        "      <th>mean</th>\n",
        "      <td>0.444909</td>\n",
        "      <td>2.070060</td>\n",
        "    </tr>\n",
        "    <tr>\n",
        "      <th>std</th>\n",
        "      <td>0.297917</td>\n",
        "      <td>1.769325</td>\n",
        "    </tr>\n",
        "    <tr>\n",
        "      <th>min</th>\n",
        "      <td>0.000000</td>\n",
        "      <td>0.000000</td>\n",
        "    </tr>\n",
        "    <tr>\n",
        "      <th>25%</th>\n",
        "      <td>0.250000</td>\n",
        "      <td>1.000000</td>\n",
        "    </tr>\n",
        "    <tr>\n",
        "      <th>50%</th>\n",
        "      <td>0.500000</td>\n",
        "      <td>2.000000</td>\n",
        "    </tr>\n",
        "    <tr>\n",
        "      <th>75%</th>\n",
        "      <td>0.625000</td>\n",
        "      <td>3.000000</td>\n",
        "    </tr>\n",
        "    <tr>\n",
        "      <th>max</th>\n",
        "      <td>1.000000</td>\n",
        "      <td>13.000000</td>\n",
        "    </tr>\n",
        "  </tbody>\n",
        "</table>\n",
        "</div>"
       ],
       "metadata": {},
       "output_type": "pyout",
       "prompt_number": 18,
       "text": [
        "      shot_made_flag              \n",
        "                mean           sum\n",
        "count   39552.000000  39552.000000\n",
        "mean        0.444909      2.070060\n",
        "std         0.297917      1.769325\n",
        "min         0.000000      0.000000\n",
        "25%         0.250000      1.000000\n",
        "50%         0.500000      2.000000\n",
        "75%         0.625000      3.000000\n",
        "max         1.000000     13.000000"
       ]
      }
     ],
     "prompt_number": 18
    },
    {
     "cell_type": "markdown",
     "metadata": {},
     "source": [
      "Note that the average percentage after a miss (0.538879) is greater than the average percentage after a make (0.367874).\n",
      "\n",
      "We can also plot the data using a scatter plot as before.  Again blue dots indicate higher percentage after a miss and red dots indicate higher percentage after a make."
     ]
    },
    {
     "cell_type": "code",
     "collapsed": false,
     "input": [
      "colors = np.where(player_shot_df_unstack['percent_after_miss']>player_shot_df_unstack['percent_after_make'], 'b', 'r')\n",
      "player_shot_df_unstack.plot(x='percent_after_miss', y='percent_after_make', kind='scatter', c=colors, figsize=(12,6))"
     ],
     "language": "python",
     "metadata": {},
     "outputs": [
      {
       "metadata": {},
       "output_type": "pyout",
       "prompt_number": 19,
       "text": [
        "<matplotlib.axes._subplots.AxesSubplot at 0x7fd9af243750>"
       ]
      },
      {
       "metadata": {},
       "output_type": "display_data",
       "png": "[encoded data removed]",
       "text": [
        "<matplotlib.figure.Figure at 0x7fd9af18d550>"
       ]
      }
     ],
     "prompt_number": 19
    },
    {
     "cell_type": "markdown",
     "metadata": {},
     "source": [
      "We can also do the t-test again."
     ]
    },
    {
     "cell_type": "code",
     "collapsed": false,
     "input": [
      "(t, p) = scipy.stats.ttest_1samp(player_shot_df_unstack.percent_after_make-player_shot_df_unstack.percent_after_miss,0,nan_policy='omit')\n",
      "if t > 0:\n",
      "    # t>0 implies percent_after_make is generally greater than percent_after_miss\n",
      "    # so this is the tail that (at least somewhat) supports our alternative hypothesis\n",
      "    p = p/2\n",
      "else:\n",
      "    # t<0 implies percent_after_make is generally less than percent_after_miss\n",
      "    # so this is the tail that definitely does not support our alternative hypothesis\n",
      "    p = 1 - p/2\n",
      "p"
     ],
     "language": "python",
     "metadata": {},
     "outputs": [
      {
       "metadata": {},
       "output_type": "pyout",
       "prompt_number": 20,
       "text": [
        "1.0"
       ]
      }
     ],
     "prompt_number": 20
    },
    {
     "cell_type": "markdown",
     "metadata": {},
     "source": [
      "Our p-value is very close to 1.  Again, we cannot conclude that players are more likely to make a shot after making the previous shot.  In fact, it seems very likely players are more likely to miss a shot after making the previous shot."
     ]
    },
    {
     "cell_type": "code",
     "collapsed": false,
     "input": [
      "#shots['shot_made_flag'] = np.random.randint(0,2,size=shots['shot_made_flag'].count())\n",
      "#shots[:10]\n",
      "#df = shots[['shot_made_flag','period']].groupby(['shot_made_flag']).agg('count')\n",
      "#df.head()"
     ],
     "language": "python",
     "metadata": {},
     "outputs": [],
     "prompt_number": 21
    }
   ],
   "metadata": {}
  }
 ]
}