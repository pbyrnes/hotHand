{
 "metadata": {
  "name": "",
  "signature": "sha256:5fe55954afafa3375b40d0a27da35b58596c806a177ec53e24391dca9c98dbca"
 },
 "nbformat": 3,
 "nbformat_minor": 0,
 "worksheets": [
  {
   "cells": [
    {
     "cell_type": "code",
     "collapsed": false,
     "input": [
      "index = MultiIndex.from_tuples([('one','a'),('one','b'),('two','a'),('two','b')])\n",
      "s = pd."
     ],
     "language": "python",
     "metadata": {},
     "outputs": []
    }
   ],
   "metadata": {}
  }
 ]
}